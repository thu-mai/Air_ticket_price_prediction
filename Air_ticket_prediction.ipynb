{
 "cells": [
  {
   "cell_type": "code",
   "execution_count": 1,
   "metadata": {},
   "outputs": [],
   "source": [
    "import pandas as pd\n",
    "import matplotlib.pyplot as plt\n",
    "from datetime import date\n",
    "from sklearn import linear_model, model_selection, metrics, datasets\n",
    "import statsmodels.api as sm\n",
    "import seaborn as sns"
   ]
  },
  {
   "cell_type": "code",
   "execution_count": 2,
   "metadata": {},
   "outputs": [],
   "source": [
    "data = pd.read_csv('C:/Users/Thu/Desktop/AML/Assignment1/pek-sha.csv')"
   ]
  },
  {
   "cell_type": "code",
   "execution_count": 3,
   "metadata": {},
   "outputs": [
    {
     "data": {
      "text/html": [
       "<div>\n",
       "<style scoped>\n",
       "    .dataframe tbody tr th:only-of-type {\n",
       "        vertical-align: middle;\n",
       "    }\n",
       "\n",
       "    .dataframe tbody tr th {\n",
       "        vertical-align: top;\n",
       "    }\n",
       "\n",
       "    .dataframe thead th {\n",
       "        text-align: right;\n",
       "    }\n",
       "</style>\n",
       "<table border=\"1\" class=\"dataframe\">\n",
       "  <thead>\n",
       "    <tr style=\"text-align: right;\">\n",
       "      <th></th>\n",
       "      <th>ID</th>\n",
       "      <th>flightNumber</th>\n",
       "      <th>craftTypeCode</th>\n",
       "      <th>depAirport</th>\n",
       "      <th>traAirport</th>\n",
       "      <th>arrAirport</th>\n",
       "      <th>departureDate</th>\n",
       "      <th>arrivalDate</th>\n",
       "      <th>cabinClass</th>\n",
       "      <th>priceClass</th>\n",
       "      <th>price</th>\n",
       "      <th>rate</th>\n",
       "      <th>createDate</th>\n",
       "      <th>dateDifference</th>\n",
       "    </tr>\n",
       "  </thead>\n",
       "  <tbody>\n",
       "    <tr>\n",
       "      <td>0</td>\n",
       "      <td>14393</td>\n",
       "      <td>HO1252</td>\n",
       "      <td>320</td>\n",
       "      <td>PEK</td>\n",
       "      <td>NaN</td>\n",
       "      <td>SHA</td>\n",
       "      <td>2019-01-04 06:35:00</td>\n",
       "      <td>2019-01-04 08:55:00</td>\n",
       "      <td>C</td>\n",
       "      <td>C</td>\n",
       "      <td>1860</td>\n",
       "      <td>1.00</td>\n",
       "      <td>2019-01-03 14:26:15</td>\n",
       "      <td>1</td>\n",
       "    </tr>\n",
       "    <tr>\n",
       "      <td>1</td>\n",
       "      <td>14409</td>\n",
       "      <td>MU5138</td>\n",
       "      <td>33L</td>\n",
       "      <td>PEK</td>\n",
       "      <td>NaN</td>\n",
       "      <td>SHA</td>\n",
       "      <td>2019-01-04 07:00:00</td>\n",
       "      <td>2019-01-04 09:15:00</td>\n",
       "      <td>C</td>\n",
       "      <td>I</td>\n",
       "      <td>1640</td>\n",
       "      <td>0.31</td>\n",
       "      <td>2019-01-03 14:26:15</td>\n",
       "      <td>1</td>\n",
       "    </tr>\n",
       "    <tr>\n",
       "      <td>2</td>\n",
       "      <td>14415</td>\n",
       "      <td>MU5138</td>\n",
       "      <td>33L</td>\n",
       "      <td>PEK</td>\n",
       "      <td>NaN</td>\n",
       "      <td>SHA</td>\n",
       "      <td>2019-01-04 07:00:00</td>\n",
       "      <td>2019-01-04 09:15:00</td>\n",
       "      <td>C</td>\n",
       "      <td>J</td>\n",
       "      <td>5360</td>\n",
       "      <td>1.00</td>\n",
       "      <td>2019-01-03 14:26:15</td>\n",
       "      <td>1</td>\n",
       "    </tr>\n",
       "    <tr>\n",
       "      <td>3</td>\n",
       "      <td>14429</td>\n",
       "      <td>HU7605</td>\n",
       "      <td>350</td>\n",
       "      <td>PEK</td>\n",
       "      <td>NaN</td>\n",
       "      <td>SHA</td>\n",
       "      <td>2019-01-04 07:20:00</td>\n",
       "      <td>2019-01-04 09:35:00</td>\n",
       "      <td>C</td>\n",
       "      <td>I</td>\n",
       "      <td>1635</td>\n",
       "      <td>0.29</td>\n",
       "      <td>2019-01-03 14:26:15</td>\n",
       "      <td>1</td>\n",
       "    </tr>\n",
       "    <tr>\n",
       "      <td>4</td>\n",
       "      <td>14431</td>\n",
       "      <td>HU7605</td>\n",
       "      <td>350</td>\n",
       "      <td>PEK</td>\n",
       "      <td>NaN</td>\n",
       "      <td>SHA</td>\n",
       "      <td>2019-01-04 07:20:00</td>\n",
       "      <td>2019-01-04 09:35:00</td>\n",
       "      <td>C</td>\n",
       "      <td>I</td>\n",
       "      <td>1640</td>\n",
       "      <td>0.29</td>\n",
       "      <td>2019-01-03 14:26:15</td>\n",
       "      <td>1</td>\n",
       "    </tr>\n",
       "  </tbody>\n",
       "</table>\n",
       "</div>"
      ],
      "text/plain": [
       "      ID flightNumber craftTypeCode depAirport traAirport arrAirport  \\\n",
       "0  14393       HO1252           320        PEK        NaN        SHA   \n",
       "1  14409       MU5138           33L        PEK        NaN        SHA   \n",
       "2  14415       MU5138           33L        PEK        NaN        SHA   \n",
       "3  14429       HU7605           350        PEK        NaN        SHA   \n",
       "4  14431       HU7605           350        PEK        NaN        SHA   \n",
       "\n",
       "         departureDate          arrivalDate cabinClass priceClass  price  \\\n",
       "0  2019-01-04 06:35:00  2019-01-04 08:55:00          C          C   1860   \n",
       "1  2019-01-04 07:00:00  2019-01-04 09:15:00          C          I   1640   \n",
       "2  2019-01-04 07:00:00  2019-01-04 09:15:00          C          J   5360   \n",
       "3  2019-01-04 07:20:00  2019-01-04 09:35:00          C          I   1635   \n",
       "4  2019-01-04 07:20:00  2019-01-04 09:35:00          C          I   1640   \n",
       "\n",
       "   rate           createDate  dateDifference  \n",
       "0  1.00  2019-01-03 14:26:15               1  \n",
       "1  0.31  2019-01-03 14:26:15               1  \n",
       "2  1.00  2019-01-03 14:26:15               1  \n",
       "3  0.29  2019-01-03 14:26:15               1  \n",
       "4  0.29  2019-01-03 14:26:15               1  "
      ]
     },
     "execution_count": 3,
     "metadata": {},
     "output_type": "execute_result"
    }
   ],
   "source": [
    "data.head()"
   ]
  },
  {
   "cell_type": "code",
   "execution_count": 4,
   "metadata": {},
   "outputs": [
    {
     "data": {
      "text/html": [
       "<div>\n",
       "<style scoped>\n",
       "    .dataframe tbody tr th:only-of-type {\n",
       "        vertical-align: middle;\n",
       "    }\n",
       "\n",
       "    .dataframe tbody tr th {\n",
       "        vertical-align: top;\n",
       "    }\n",
       "\n",
       "    .dataframe thead th {\n",
       "        text-align: right;\n",
       "    }\n",
       "</style>\n",
       "<table border=\"1\" class=\"dataframe\">\n",
       "  <thead>\n",
       "    <tr style=\"text-align: right;\">\n",
       "      <th></th>\n",
       "      <th>ID</th>\n",
       "      <th>price</th>\n",
       "      <th>rate</th>\n",
       "      <th>dateDifference</th>\n",
       "    </tr>\n",
       "  </thead>\n",
       "  <tbody>\n",
       "    <tr>\n",
       "      <td>count</td>\n",
       "      <td>3.003360e+05</td>\n",
       "      <td>300336.000000</td>\n",
       "      <td>300336.000000</td>\n",
       "      <td>300336.000000</td>\n",
       "    </tr>\n",
       "    <tr>\n",
       "      <td>mean</td>\n",
       "      <td>3.785370e+07</td>\n",
       "      <td>2209.684696</td>\n",
       "      <td>0.764667</td>\n",
       "      <td>6.682762</td>\n",
       "    </tr>\n",
       "    <tr>\n",
       "      <td>std</td>\n",
       "      <td>2.320571e+07</td>\n",
       "      <td>1755.003424</td>\n",
       "      <td>0.251366</td>\n",
       "      <td>7.501340</td>\n",
       "    </tr>\n",
       "    <tr>\n",
       "      <td>min</td>\n",
       "      <td>1.438400e+04</td>\n",
       "      <td>235.000000</td>\n",
       "      <td>0.000000</td>\n",
       "      <td>1.000000</td>\n",
       "    </tr>\n",
       "    <tr>\n",
       "      <td>25%</td>\n",
       "      <td>1.770736e+07</td>\n",
       "      <td>1005.000000</td>\n",
       "      <td>0.530000</td>\n",
       "      <td>2.000000</td>\n",
       "    </tr>\n",
       "    <tr>\n",
       "      <td>50%</td>\n",
       "      <td>3.718240e+07</td>\n",
       "      <td>1490.000000</td>\n",
       "      <td>0.860000</td>\n",
       "      <td>5.000000</td>\n",
       "    </tr>\n",
       "    <tr>\n",
       "      <td>75%</td>\n",
       "      <td>5.705183e+07</td>\n",
       "      <td>2980.000000</td>\n",
       "      <td>1.000000</td>\n",
       "      <td>7.000000</td>\n",
       "    </tr>\n",
       "    <tr>\n",
       "      <td>max</td>\n",
       "      <td>8.016500e+07</td>\n",
       "      <td>6410.000000</td>\n",
       "      <td>1.000000</td>\n",
       "      <td>30.000000</td>\n",
       "    </tr>\n",
       "  </tbody>\n",
       "</table>\n",
       "</div>"
      ],
      "text/plain": [
       "                 ID          price           rate  dateDifference\n",
       "count  3.003360e+05  300336.000000  300336.000000   300336.000000\n",
       "mean   3.785370e+07    2209.684696       0.764667        6.682762\n",
       "std    2.320571e+07    1755.003424       0.251366        7.501340\n",
       "min    1.438400e+04     235.000000       0.000000        1.000000\n",
       "25%    1.770736e+07    1005.000000       0.530000        2.000000\n",
       "50%    3.718240e+07    1490.000000       0.860000        5.000000\n",
       "75%    5.705183e+07    2980.000000       1.000000        7.000000\n",
       "max    8.016500e+07    6410.000000       1.000000       30.000000"
      ]
     },
     "execution_count": 4,
     "metadata": {},
     "output_type": "execute_result"
    }
   ],
   "source": [
    "data.describe()"
   ]
  },
  {
   "cell_type": "markdown",
   "metadata": {},
   "source": [
    "# 1) Data Exploration"
   ]
  },
  {
   "cell_type": "markdown",
   "metadata": {},
   "source": [
    "#### (1) What is the minimum time interval between createDate and departureDate for valid records? Does it make sense?"
   ]
  },
  {
   "cell_type": "markdown",
   "metadata": {},
   "source": [
    "dateDifference is the date difference between the create data and the actual departure date. So we find the min of dateDifference."
   ]
  },
  {
   "cell_type": "code",
   "execution_count": 5,
   "metadata": {},
   "outputs": [
    {
     "data": {
      "text/plain": [
       "1"
      ]
     },
     "execution_count": 5,
     "metadata": {},
     "output_type": "execute_result"
    }
   ],
   "source": [
    "data['dateDifference'].min()"
   ]
  },
  {
   "cell_type": "code",
   "execution_count": 6,
   "metadata": {},
   "outputs": [
    {
     "data": {
      "text/plain": [
       "(300336, 14)"
      ]
     },
     "execution_count": 6,
     "metadata": {},
     "output_type": "execute_result"
    }
   ],
   "source": [
    "data.shape"
   ]
  },
  {
   "cell_type": "markdown",
   "metadata": {},
   "source": [
    "The minium time interval between createDate and departureDate for valid records is 1 day. In real life cases, the date difference can be 0 day if the ticket is purchased on the same day of the departure day. This can happen in real life."
   ]
  },
  {
   "cell_type": "markdown",
   "metadata": {},
   "source": [
    "#### (2) Is the column price the original price or the discounted price?"
   ]
  },
  {
   "cell_type": "code",
   "execution_count": 7,
   "metadata": {},
   "outputs": [
    {
     "data": {
      "text/plain": [
       "array(['C', 'F', 'Y'], dtype=object)"
      ]
     },
     "execution_count": 7,
     "metadata": {},
     "output_type": "execute_result"
    }
   ],
   "source": [
    "data['cabinClass'].unique()"
   ]
  },
  {
   "cell_type": "markdown",
   "metadata": {},
   "source": [
    "To answer this question, we need to see whether there is any significant correlation between price and rate. If there is significant correlation then price is the discounted price. There are 3 cabin classes (Y, C, F) with different price points so we examine the correlation seperately for each cabin class."
   ]
  },
  {
   "cell_type": "code",
   "execution_count": 8,
   "metadata": {},
   "outputs": [
    {
     "data": {
      "image/png": "[encoded data removed]",
      "text/plain": [
       "<Figure size 432x288 with 1 Axes>"
      ]
     },
     "metadata": {
      "needs_background": "light"
     },
     "output_type": "display_data"
    }
   ],
   "source": [
    "# Y cabin class:\n",
    "data_Y = data[data['cabinClass']=='Y']\n",
    "plt.scatter(data_Y['price'], data_Y['rate'])\n",
    "plt.show()"
   ]
  },
  {
   "cell_type": "code",
   "execution_count": 9,
   "metadata": {},
   "outputs": [
    {
     "data": {
      "text/html": [
       "<div>\n",
       "<style scoped>\n",
       "    .dataframe tbody tr th:only-of-type {\n",
       "        vertical-align: middle;\n",
       "    }\n",
       "\n",
       "    .dataframe tbody tr th {\n",
       "        vertical-align: top;\n",
       "    }\n",
       "\n",
       "    .dataframe thead th {\n",
       "        text-align: right;\n",
       "    }\n",
       "</style>\n",
       "<table border=\"1\" class=\"dataframe\">\n",
       "  <thead>\n",
       "    <tr style=\"text-align: right;\">\n",
       "      <th></th>\n",
       "      <th>price</th>\n",
       "      <th>rate</th>\n",
       "    </tr>\n",
       "  </thead>\n",
       "  <tbody>\n",
       "    <tr>\n",
       "      <td>price</td>\n",
       "      <td>1.000000</td>\n",
       "      <td>0.987816</td>\n",
       "    </tr>\n",
       "    <tr>\n",
       "      <td>rate</td>\n",
       "      <td>0.987816</td>\n",
       "      <td>1.000000</td>\n",
       "    </tr>\n",
       "  </tbody>\n",
       "</table>\n",
       "</div>"
      ],
      "text/plain": [
       "          price      rate\n",
       "price  1.000000  0.987816\n",
       "rate   0.987816  1.000000"
      ]
     },
     "execution_count": 9,
     "metadata": {},
     "output_type": "execute_result"
    }
   ],
   "source": [
    "data_Y[['price','rate']].corr()"
   ]
  },
  {
   "cell_type": "code",
   "execution_count": 10,
   "metadata": {},
   "outputs": [
    {
     "data": {
      "image/png": "[encoded data removed]",
      "text/plain": [
       "<Figure size 432x288 with 1 Axes>"
      ]
     },
     "metadata": {
      "needs_background": "light"
     },
     "output_type": "display_data"
    }
   ],
   "source": [
    "# C cabin class:\n",
    "data_C = data[data['cabinClass']=='C']\n",
    "plt.scatter(data_C['price'], data_C['rate'])\n",
    "plt.show()"
   ]
  },
  {
   "cell_type": "code",
   "execution_count": 11,
   "metadata": {},
   "outputs": [
    {
     "data": {
      "text/html": [
       "<div>\n",
       "<style scoped>\n",
       "    .dataframe tbody tr th:only-of-type {\n",
       "        vertical-align: middle;\n",
       "    }\n",
       "\n",
       "    .dataframe tbody tr th {\n",
       "        vertical-align: top;\n",
       "    }\n",
       "\n",
       "    .dataframe thead th {\n",
       "        text-align: right;\n",
       "    }\n",
       "</style>\n",
       "<table border=\"1\" class=\"dataframe\">\n",
       "  <thead>\n",
       "    <tr style=\"text-align: right;\">\n",
       "      <th></th>\n",
       "      <th>price</th>\n",
       "      <th>rate</th>\n",
       "    </tr>\n",
       "  </thead>\n",
       "  <tbody>\n",
       "    <tr>\n",
       "      <td>price</td>\n",
       "      <td>1.000000</td>\n",
       "      <td>0.949287</td>\n",
       "    </tr>\n",
       "    <tr>\n",
       "      <td>rate</td>\n",
       "      <td>0.949287</td>\n",
       "      <td>1.000000</td>\n",
       "    </tr>\n",
       "  </tbody>\n",
       "</table>\n",
       "</div>"
      ],
      "text/plain": [
       "          price      rate\n",
       "price  1.000000  0.949287\n",
       "rate   0.949287  1.000000"
      ]
     },
     "execution_count": 11,
     "metadata": {},
     "output_type": "execute_result"
    }
   ],
   "source": [
    "data_C[['price','rate']].corr()"
   ]
  },
  {
   "cell_type": "code",
   "execution_count": 12,
   "metadata": {},
   "outputs": [
    {
     "data": {
      "image/png": "[encoded data removed]",
      "text/plain": [
       "<Figure size 432x288 with 1 Axes>"
      ]
     },
     "metadata": {
      "needs_background": "light"
     },
     "output_type": "display_data"
    }
   ],
   "source": [
    "# F cabin class:\n",
    "data_F = data[data['cabinClass']=='F']\n",
    "plt.scatter(data_F['price'], data_F['rate'])\n",
    "plt.show()"
   ]
  },
  {
   "cell_type": "code",
   "execution_count": 13,
   "metadata": {},
   "outputs": [
    {
     "data": {
      "text/html": [
       "<div>\n",
       "<style scoped>\n",
       "    .dataframe tbody tr th:only-of-type {\n",
       "        vertical-align: middle;\n",
       "    }\n",
       "\n",
       "    .dataframe tbody tr th {\n",
       "        vertical-align: top;\n",
       "    }\n",
       "\n",
       "    .dataframe thead th {\n",
       "        text-align: right;\n",
       "    }\n",
       "</style>\n",
       "<table border=\"1\" class=\"dataframe\">\n",
       "  <thead>\n",
       "    <tr style=\"text-align: right;\">\n",
       "      <th></th>\n",
       "      <th>price</th>\n",
       "      <th>rate</th>\n",
       "    </tr>\n",
       "  </thead>\n",
       "  <tbody>\n",
       "    <tr>\n",
       "      <td>price</td>\n",
       "      <td>1.000000</td>\n",
       "      <td>0.959987</td>\n",
       "    </tr>\n",
       "    <tr>\n",
       "      <td>rate</td>\n",
       "      <td>0.959987</td>\n",
       "      <td>1.000000</td>\n",
       "    </tr>\n",
       "  </tbody>\n",
       "</table>\n",
       "</div>"
      ],
      "text/plain": [
       "          price      rate\n",
       "price  1.000000  0.959987\n",
       "rate   0.959987  1.000000"
      ]
     },
     "execution_count": 13,
     "metadata": {},
     "output_type": "execute_result"
    }
   ],
   "source": [
    "data_F[['price','rate']].corr()"
   ]
  },
  {
   "cell_type": "markdown",
   "metadata": {},
   "source": [
    "There is strong positive correlation between price and rate for each cabin class. Hence, we can conclude that the price is the discounted price."
   ]
  },
  {
   "cell_type": "markdown",
   "metadata": {},
   "source": [
    "#### (3) What are the original prices for each cabin class and each flight (a flight is identified by its flight number)? Tabulate flight number, departure time in hh:mm, cabin class and original price for each flight."
   ]
  },
  {
   "cell_type": "code",
   "execution_count": 14,
   "metadata": {},
   "outputs": [],
   "source": [
    "# Extracting departure time from departure date\n",
    "data['time'] = data['departureDate'].apply(lambda x: x[10:16])"
   ]
  },
  {
   "cell_type": "code",
   "execution_count": 15,
   "metadata": {},
   "outputs": [],
   "source": [
    "# Time is a string so we turn time to a numeric value (to be used in regression later on)\n",
    "data['numeric_time'] = data['time'].apply(lambda x: int(x[:3]) + int(x[4:6])/60)"
   ]
  },
  {
   "cell_type": "code",
   "execution_count": 16,
   "metadata": {},
   "outputs": [],
   "source": [
    "# Extracting airline from flight number\n",
    "data['airline'] = data['flightNumber'].apply(lambda x: x[:2])"
   ]
  },
  {
   "cell_type": "code",
   "execution_count": 17,
   "metadata": {},
   "outputs": [
    {
     "data": {
      "text/html": [
       "<div>\n",
       "<style scoped>\n",
       "    .dataframe tbody tr th:only-of-type {\n",
       "        vertical-align: middle;\n",
       "    }\n",
       "\n",
       "    .dataframe tbody tr th {\n",
       "        vertical-align: top;\n",
       "    }\n",
       "\n",
       "    .dataframe thead th {\n",
       "        text-align: right;\n",
       "    }\n",
       "</style>\n",
       "<table border=\"1\" class=\"dataframe\">\n",
       "  <thead>\n",
       "    <tr style=\"text-align: right;\">\n",
       "      <th></th>\n",
       "      <th>ID</th>\n",
       "      <th>flightNumber</th>\n",
       "      <th>craftTypeCode</th>\n",
       "      <th>depAirport</th>\n",
       "      <th>traAirport</th>\n",
       "      <th>arrAirport</th>\n",
       "      <th>departureDate</th>\n",
       "      <th>arrivalDate</th>\n",
       "      <th>cabinClass</th>\n",
       "      <th>priceClass</th>\n",
       "      <th>price</th>\n",
       "      <th>rate</th>\n",
       "      <th>createDate</th>\n",
       "      <th>dateDifference</th>\n",
       "      <th>time</th>\n",
       "      <th>numeric_time</th>\n",
       "      <th>airline</th>\n",
       "    </tr>\n",
       "  </thead>\n",
       "  <tbody>\n",
       "    <tr>\n",
       "      <td>0</td>\n",
       "      <td>14393</td>\n",
       "      <td>HO1252</td>\n",
       "      <td>320</td>\n",
       "      <td>PEK</td>\n",
       "      <td>NaN</td>\n",
       "      <td>SHA</td>\n",
       "      <td>2019-01-04 06:35:00</td>\n",
       "      <td>2019-01-04 08:55:00</td>\n",
       "      <td>C</td>\n",
       "      <td>C</td>\n",
       "      <td>1860</td>\n",
       "      <td>1.00</td>\n",
       "      <td>2019-01-03 14:26:15</td>\n",
       "      <td>1</td>\n",
       "      <td>06:35</td>\n",
       "      <td>6.583333</td>\n",
       "      <td>HO</td>\n",
       "    </tr>\n",
       "    <tr>\n",
       "      <td>1</td>\n",
       "      <td>14409</td>\n",
       "      <td>MU5138</td>\n",
       "      <td>33L</td>\n",
       "      <td>PEK</td>\n",
       "      <td>NaN</td>\n",
       "      <td>SHA</td>\n",
       "      <td>2019-01-04 07:00:00</td>\n",
       "      <td>2019-01-04 09:15:00</td>\n",
       "      <td>C</td>\n",
       "      <td>I</td>\n",
       "      <td>1640</td>\n",
       "      <td>0.31</td>\n",
       "      <td>2019-01-03 14:26:15</td>\n",
       "      <td>1</td>\n",
       "      <td>07:00</td>\n",
       "      <td>7.000000</td>\n",
       "      <td>MU</td>\n",
       "    </tr>\n",
       "    <tr>\n",
       "      <td>2</td>\n",
       "      <td>14415</td>\n",
       "      <td>MU5138</td>\n",
       "      <td>33L</td>\n",
       "      <td>PEK</td>\n",
       "      <td>NaN</td>\n",
       "      <td>SHA</td>\n",
       "      <td>2019-01-04 07:00:00</td>\n",
       "      <td>2019-01-04 09:15:00</td>\n",
       "      <td>C</td>\n",
       "      <td>J</td>\n",
       "      <td>5360</td>\n",
       "      <td>1.00</td>\n",
       "      <td>2019-01-03 14:26:15</td>\n",
       "      <td>1</td>\n",
       "      <td>07:00</td>\n",
       "      <td>7.000000</td>\n",
       "      <td>MU</td>\n",
       "    </tr>\n",
       "    <tr>\n",
       "      <td>3</td>\n",
       "      <td>14429</td>\n",
       "      <td>HU7605</td>\n",
       "      <td>350</td>\n",
       "      <td>PEK</td>\n",
       "      <td>NaN</td>\n",
       "      <td>SHA</td>\n",
       "      <td>2019-01-04 07:20:00</td>\n",
       "      <td>2019-01-04 09:35:00</td>\n",
       "      <td>C</td>\n",
       "      <td>I</td>\n",
       "      <td>1635</td>\n",
       "      <td>0.29</td>\n",
       "      <td>2019-01-03 14:26:15</td>\n",
       "      <td>1</td>\n",
       "      <td>07:20</td>\n",
       "      <td>7.333333</td>\n",
       "      <td>HU</td>\n",
       "    </tr>\n",
       "    <tr>\n",
       "      <td>4</td>\n",
       "      <td>14431</td>\n",
       "      <td>HU7605</td>\n",
       "      <td>350</td>\n",
       "      <td>PEK</td>\n",
       "      <td>NaN</td>\n",
       "      <td>SHA</td>\n",
       "      <td>2019-01-04 07:20:00</td>\n",
       "      <td>2019-01-04 09:35:00</td>\n",
       "      <td>C</td>\n",
       "      <td>I</td>\n",
       "      <td>1640</td>\n",
       "      <td>0.29</td>\n",
       "      <td>2019-01-03 14:26:15</td>\n",
       "      <td>1</td>\n",
       "      <td>07:20</td>\n",
       "      <td>7.333333</td>\n",
       "      <td>HU</td>\n",
       "    </tr>\n",
       "  </tbody>\n",
       "</table>\n",
       "</div>"
      ],
      "text/plain": [
       "      ID flightNumber craftTypeCode depAirport traAirport arrAirport  \\\n",
       "0  14393       HO1252           320        PEK        NaN        SHA   \n",
       "1  14409       MU5138           33L        PEK        NaN        SHA   \n",
       "2  14415       MU5138           33L        PEK        NaN        SHA   \n",
       "3  14429       HU7605           350        PEK        NaN        SHA   \n",
       "4  14431       HU7605           350        PEK        NaN        SHA   \n",
       "\n",
       "         departureDate          arrivalDate cabinClass priceClass  price  \\\n",
       "0  2019-01-04 06:35:00  2019-01-04 08:55:00          C          C   1860   \n",
       "1  2019-01-04 07:00:00  2019-01-04 09:15:00          C          I   1640   \n",
       "2  2019-01-04 07:00:00  2019-01-04 09:15:00          C          J   5360   \n",
       "3  2019-01-04 07:20:00  2019-01-04 09:35:00          C          I   1635   \n",
       "4  2019-01-04 07:20:00  2019-01-04 09:35:00          C          I   1640   \n",
       "\n",
       "   rate           createDate  dateDifference    time  numeric_time airline  \n",
       "0  1.00  2019-01-03 14:26:15               1   06:35      6.583333      HO  \n",
       "1  0.31  2019-01-03 14:26:15               1   07:00      7.000000      MU  \n",
       "2  1.00  2019-01-03 14:26:15               1   07:00      7.000000      MU  \n",
       "3  0.29  2019-01-03 14:26:15               1   07:20      7.333333      HU  \n",
       "4  0.29  2019-01-03 14:26:15               1   07:20      7.333333      HU  "
      ]
     },
     "execution_count": 17,
     "metadata": {},
     "output_type": "execute_result"
    }
   ],
   "source": [
    "data.head()"
   ]
  },
  {
   "cell_type": "markdown",
   "metadata": {},
   "source": [
    "To answer question 3, we filter only the observations that rate is 1, which means the prices are original prices. <br/>\n",
    "Assumptions: <br/>\n",
    "1. All flights have at least one observation that rate is 1. <br/>\n",
    "2. For flights that have several original prices, we take the average of the orginal prices as the original price of that flight."
   ]
  },
  {
   "cell_type": "code",
   "execution_count": 18,
   "metadata": {},
   "outputs": [],
   "source": [
    "data1 = data[data['rate']==1]"
   ]
  },
  {
   "cell_type": "code",
   "execution_count": 19,
   "metadata": {},
   "outputs": [
    {
     "name": "stdout",
     "output_type": "stream",
     "text": [
      "flightNumber  time    cabinClass\n",
      "CA1501         08:30  C             5682.299652\n",
      "                      F             5693.055556\n",
      "                      Y             1490.000000\n",
      "CA1515         15:30  C             5681.522956\n",
      "                      F             5771.491803\n",
      "                                       ...     \n",
      "MU7032         10:00  F             6230.000000\n",
      "                      Y             1490.000000\n",
      "MU7106         14:05  C             5360.000000\n",
      "                      F             5660.000000\n",
      "                      Y             1490.000000\n",
      "Name: price, Length: 231, dtype: float64\n"
     ]
    }
   ],
   "source": [
    "original_price = data1.groupby(['flightNumber','time','cabinClass'])['price'].mean()\n",
    "print(original_price)"
   ]
  },
  {
   "cell_type": "code",
   "execution_count": 20,
   "metadata": {},
   "outputs": [
    {
     "name": "stdout",
     "output_type": "stream",
     "text": [
      "flightNumber  time    cabinClass\n",
      "CA1501         08:30  C             4096.145332\n",
      "                      F             5126.777778\n",
      "                      Y             1236.330853\n",
      "CA1515         15:30  C             4299.556962\n",
      "                      F             5217.538726\n",
      "                                       ...     \n",
      "MU7032         10:00  F             6230.000000\n",
      "                      Y             1000.500000\n",
      "MU7106         14:05  C             3479.166667\n",
      "                      F             3276.666667\n",
      "                      Y              906.734694\n",
      "Name: price, Length: 231, dtype: float64\n"
     ]
    }
   ],
   "source": [
    "#to explain\n",
    "original_price_ = data.groupby(['flightNumber','time','cabinClass'])['price'].mean()\n",
    "print(original_price_)"
   ]
  },
  {
   "cell_type": "code",
   "execution_count": 21,
   "metadata": {},
   "outputs": [
    {
     "data": {
      "text/html": [
       "<div>\n",
       "<style scoped>\n",
       "    .dataframe tbody tr th:only-of-type {\n",
       "        vertical-align: middle;\n",
       "    }\n",
       "\n",
       "    .dataframe tbody tr th {\n",
       "        vertical-align: top;\n",
       "    }\n",
       "\n",
       "    .dataframe thead th {\n",
       "        text-align: right;\n",
       "    }\n",
       "</style>\n",
       "<table border=\"1\" class=\"dataframe\">\n",
       "  <thead>\n",
       "    <tr style=\"text-align: right;\">\n",
       "      <th></th>\n",
       "      <th>ID</th>\n",
       "      <th>flightNumber</th>\n",
       "      <th>craftTypeCode</th>\n",
       "      <th>depAirport</th>\n",
       "      <th>traAirport</th>\n",
       "      <th>arrAirport</th>\n",
       "      <th>departureDate</th>\n",
       "      <th>arrivalDate</th>\n",
       "      <th>cabinClass</th>\n",
       "      <th>priceClass</th>\n",
       "      <th>price</th>\n",
       "      <th>rate</th>\n",
       "      <th>createDate</th>\n",
       "      <th>dateDifference</th>\n",
       "      <th>time</th>\n",
       "      <th>numeric_time</th>\n",
       "      <th>airline</th>\n",
       "    </tr>\n",
       "  </thead>\n",
       "  <tbody>\n",
       "    <tr>\n",
       "      <td>0</td>\n",
       "      <td>14393</td>\n",
       "      <td>HO1252</td>\n",
       "      <td>320</td>\n",
       "      <td>PEK</td>\n",
       "      <td>NaN</td>\n",
       "      <td>SHA</td>\n",
       "      <td>2019-01-04 06:35:00</td>\n",
       "      <td>2019-01-04 08:55:00</td>\n",
       "      <td>C</td>\n",
       "      <td>C</td>\n",
       "      <td>1860</td>\n",
       "      <td>1.0</td>\n",
       "      <td>2019-01-03 14:26:15</td>\n",
       "      <td>1</td>\n",
       "      <td>06:35</td>\n",
       "      <td>6.583333</td>\n",
       "      <td>HO</td>\n",
       "    </tr>\n",
       "    <tr>\n",
       "      <td>2</td>\n",
       "      <td>14415</td>\n",
       "      <td>MU5138</td>\n",
       "      <td>33L</td>\n",
       "      <td>PEK</td>\n",
       "      <td>NaN</td>\n",
       "      <td>SHA</td>\n",
       "      <td>2019-01-04 07:00:00</td>\n",
       "      <td>2019-01-04 09:15:00</td>\n",
       "      <td>C</td>\n",
       "      <td>J</td>\n",
       "      <td>5360</td>\n",
       "      <td>1.0</td>\n",
       "      <td>2019-01-03 14:26:15</td>\n",
       "      <td>1</td>\n",
       "      <td>07:00</td>\n",
       "      <td>7.000000</td>\n",
       "      <td>MU</td>\n",
       "    </tr>\n",
       "    <tr>\n",
       "      <td>5</td>\n",
       "      <td>14433</td>\n",
       "      <td>HU7605</td>\n",
       "      <td>350</td>\n",
       "      <td>PEK</td>\n",
       "      <td>NaN</td>\n",
       "      <td>SHA</td>\n",
       "      <td>2019-01-04 07:20:00</td>\n",
       "      <td>2019-01-04 09:35:00</td>\n",
       "      <td>C</td>\n",
       "      <td>C</td>\n",
       "      <td>5660</td>\n",
       "      <td>1.0</td>\n",
       "      <td>2019-01-03 14:26:15</td>\n",
       "      <td>1</td>\n",
       "      <td>07:20</td>\n",
       "      <td>7.333333</td>\n",
       "      <td>HU</td>\n",
       "    </tr>\n",
       "    <tr>\n",
       "      <td>7</td>\n",
       "      <td>14451</td>\n",
       "      <td>CA1831</td>\n",
       "      <td>773</td>\n",
       "      <td>PEK</td>\n",
       "      <td>NaN</td>\n",
       "      <td>SHA</td>\n",
       "      <td>2019-01-04 07:30:00</td>\n",
       "      <td>2019-01-04 09:35:00</td>\n",
       "      <td>C</td>\n",
       "      <td>J</td>\n",
       "      <td>5530</td>\n",
       "      <td>1.0</td>\n",
       "      <td>2019-01-03 14:26:15</td>\n",
       "      <td>1</td>\n",
       "      <td>07:30</td>\n",
       "      <td>7.500000</td>\n",
       "      <td>CA</td>\n",
       "    </tr>\n",
       "    <tr>\n",
       "      <td>9</td>\n",
       "      <td>14491</td>\n",
       "      <td>MU5102</td>\n",
       "      <td>333</td>\n",
       "      <td>PEK</td>\n",
       "      <td>NaN</td>\n",
       "      <td>SHA</td>\n",
       "      <td>2019-01-04 08:00:00</td>\n",
       "      <td>2019-01-04 10:15:00</td>\n",
       "      <td>C</td>\n",
       "      <td>J</td>\n",
       "      <td>5360</td>\n",
       "      <td>1.0</td>\n",
       "      <td>2019-01-03 14:26:15</td>\n",
       "      <td>1</td>\n",
       "      <td>08:00</td>\n",
       "      <td>8.000000</td>\n",
       "      <td>MU</td>\n",
       "    </tr>\n",
       "  </tbody>\n",
       "</table>\n",
       "</div>"
      ],
      "text/plain": [
       "      ID flightNumber craftTypeCode depAirport traAirport arrAirport  \\\n",
       "0  14393       HO1252           320        PEK        NaN        SHA   \n",
       "2  14415       MU5138           33L        PEK        NaN        SHA   \n",
       "5  14433       HU7605           350        PEK        NaN        SHA   \n",
       "7  14451       CA1831           773        PEK        NaN        SHA   \n",
       "9  14491       MU5102           333        PEK        NaN        SHA   \n",
       "\n",
       "         departureDate          arrivalDate cabinClass priceClass  price  \\\n",
       "0  2019-01-04 06:35:00  2019-01-04 08:55:00          C          C   1860   \n",
       "2  2019-01-04 07:00:00  2019-01-04 09:15:00          C          J   5360   \n",
       "5  2019-01-04 07:20:00  2019-01-04 09:35:00          C          C   5660   \n",
       "7  2019-01-04 07:30:00  2019-01-04 09:35:00          C          J   5530   \n",
       "9  2019-01-04 08:00:00  2019-01-04 10:15:00          C          J   5360   \n",
       "\n",
       "   rate           createDate  dateDifference    time  numeric_time airline  \n",
       "0   1.0  2019-01-03 14:26:15               1   06:35      6.583333      HO  \n",
       "2   1.0  2019-01-03 14:26:15               1   07:00      7.000000      MU  \n",
       "5   1.0  2019-01-03 14:26:15               1   07:20      7.333333      HU  \n",
       "7   1.0  2019-01-03 14:26:15               1   07:30      7.500000      CA  \n",
       "9   1.0  2019-01-03 14:26:15               1   08:00      8.000000      MU  "
      ]
     },
     "execution_count": 21,
     "metadata": {},
     "output_type": "execute_result"
    }
   ],
   "source": [
    "data1.head()"
   ]
  },
  {
   "cell_type": "markdown",
   "metadata": {},
   "source": [
    "# 2) Linear Regression"
   ]
  },
  {
   "cell_type": "markdown",
   "metadata": {},
   "source": [
    "#### (4) Are the original air ticket prices related to the departure time of the flights for each airline?"
   ]
  },
  {
   "cell_type": "markdown",
   "metadata": {},
   "source": [
    "To know whether the original air ticket prices are related to departure time, we run a linear regression with price being target variable and departure time being explanatory variable."
   ]
  },
  {
   "cell_type": "code",
   "execution_count": 22,
   "metadata": {},
   "outputs": [],
   "source": [
    "regr = linear_model.LinearRegression()"
   ]
  },
  {
   "cell_type": "code",
   "execution_count": 23,
   "metadata": {},
   "outputs": [
    {
     "data": {
      "text/plain": [
       "((300336, 17), (109807, 17))"
      ]
     },
     "execution_count": 23,
     "metadata": {},
     "output_type": "execute_result"
    }
   ],
   "source": [
    "data.shape, data1.shape"
   ]
  },
  {
   "cell_type": "code",
   "execution_count": 24,
   "metadata": {},
   "outputs": [],
   "source": [
    "x1 = data1[['numeric_time']]\n",
    "y = data1['price']"
   ]
  },
  {
   "cell_type": "code",
   "execution_count": 25,
   "metadata": {},
   "outputs": [
    {
     "data": {
      "text/plain": [
       "LinearRegression(copy_X=True, fit_intercept=True, n_jobs=None, normalize=False)"
      ]
     },
     "execution_count": 25,
     "metadata": {},
     "output_type": "execute_result"
    }
   ],
   "source": [
    "regr.fit(x1,y)"
   ]
  },
  {
   "cell_type": "code",
   "execution_count": 26,
   "metadata": {},
   "outputs": [
    {
     "name": "stdout",
     "output_type": "stream",
     "text": [
      "Coefficients: [15.06803654]\n"
     ]
    }
   ],
   "source": [
    "print('Coefficients:', regr.coef_)"
   ]
  },
  {
   "cell_type": "code",
   "execution_count": 27,
   "metadata": {},
   "outputs": [
    {
     "name": "stdout",
     "output_type": "stream",
     "text": [
      "Intercept: 3200.903728197351\n"
     ]
    }
   ],
   "source": [
    "print('Intercept:', regr.intercept_)"
   ]
  },
  {
   "cell_type": "markdown",
   "metadata": {},
   "source": [
    "To see whether the coefficient of numeric_time is statistically significant, we need to see the p-value."
   ]
  },
  {
   "cell_type": "code",
   "execution_count": 28,
   "metadata": {},
   "outputs": [
    {
     "name": "stderr",
     "output_type": "stream",
     "text": [
      "/Users/hoangtuanminhnguyen/opt/anaconda3/lib/python3.7/site-packages/numpy/core/fromnumeric.py:2495: FutureWarning: Method .ptp is deprecated and will be removed in a future version. Use numpy.ptp instead.\n",
      "  return ptp(axis=axis, out=out, **kwargs)\n"
     ]
    }
   ],
   "source": [
    "x2 = sm.add_constant(x1)"
   ]
  },
  {
   "cell_type": "code",
   "execution_count": 29,
   "metadata": {},
   "outputs": [
    {
     "data": {
      "text/html": [
       "<div>\n",
       "<style scoped>\n",
       "    .dataframe tbody tr th:only-of-type {\n",
       "        vertical-align: middle;\n",
       "    }\n",
       "\n",
       "    .dataframe tbody tr th {\n",
       "        vertical-align: top;\n",
       "    }\n",
       "\n",
       "    .dataframe thead th {\n",
       "        text-align: right;\n",
       "    }\n",
       "</style>\n",
       "<table border=\"1\" class=\"dataframe\">\n",
       "  <thead>\n",
       "    <tr style=\"text-align: right;\">\n",
       "      <th></th>\n",
       "      <th>const</th>\n",
       "      <th>numeric_time</th>\n",
       "    </tr>\n",
       "  </thead>\n",
       "  <tbody>\n",
       "    <tr>\n",
       "      <td>0</td>\n",
       "      <td>1.0</td>\n",
       "      <td>6.583333</td>\n",
       "    </tr>\n",
       "    <tr>\n",
       "      <td>2</td>\n",
       "      <td>1.0</td>\n",
       "      <td>7.000000</td>\n",
       "    </tr>\n",
       "    <tr>\n",
       "      <td>5</td>\n",
       "      <td>1.0</td>\n",
       "      <td>7.333333</td>\n",
       "    </tr>\n",
       "    <tr>\n",
       "      <td>7</td>\n",
       "      <td>1.0</td>\n",
       "      <td>7.500000</td>\n",
       "    </tr>\n",
       "    <tr>\n",
       "      <td>9</td>\n",
       "      <td>1.0</td>\n",
       "      <td>8.000000</td>\n",
       "    </tr>\n",
       "    <tr>\n",
       "      <td>...</td>\n",
       "      <td>...</td>\n",
       "      <td>...</td>\n",
       "    </tr>\n",
       "    <tr>\n",
       "      <td>300312</td>\n",
       "      <td>1.0</td>\n",
       "      <td>21.083333</td>\n",
       "    </tr>\n",
       "    <tr>\n",
       "      <td>300317</td>\n",
       "      <td>1.0</td>\n",
       "      <td>21.250000</td>\n",
       "    </tr>\n",
       "    <tr>\n",
       "      <td>300323</td>\n",
       "      <td>1.0</td>\n",
       "      <td>21.500000</td>\n",
       "    </tr>\n",
       "    <tr>\n",
       "      <td>300329</td>\n",
       "      <td>1.0</td>\n",
       "      <td>21.833333</td>\n",
       "    </tr>\n",
       "    <tr>\n",
       "      <td>300335</td>\n",
       "      <td>1.0</td>\n",
       "      <td>13.166667</td>\n",
       "    </tr>\n",
       "  </tbody>\n",
       "</table>\n",
       "<p>109807 rows × 2 columns</p>\n",
       "</div>"
      ],
      "text/plain": [
       "        const  numeric_time\n",
       "0         1.0      6.583333\n",
       "2         1.0      7.000000\n",
       "5         1.0      7.333333\n",
       "7         1.0      7.500000\n",
       "9         1.0      8.000000\n",
       "...       ...           ...\n",
       "300312    1.0     21.083333\n",
       "300317    1.0     21.250000\n",
       "300323    1.0     21.500000\n",
       "300329    1.0     21.833333\n",
       "300335    1.0     13.166667\n",
       "\n",
       "[109807 rows x 2 columns]"
      ]
     },
     "execution_count": 29,
     "metadata": {},
     "output_type": "execute_result"
    }
   ],
   "source": [
    "x2"
   ]
  },
  {
   "cell_type": "code",
   "execution_count": 30,
   "metadata": {},
   "outputs": [
    {
     "data": {
      "text/plain": [
       "<matplotlib.collections.PathCollection at 0x1c25365a90>"
      ]
     },
     "execution_count": 30,
     "metadata": {},
     "output_type": "execute_result"
    },
    {
     "data": {
      "image/png": "[encoded data removed]",
      "text/plain": [
       "<Figure size 432x288 with 1 Axes>"
      ]
     },
     "metadata": {
      "needs_background": "light"
     },
     "output_type": "display_data"
    }
   ],
   "source": [
    "plt.scatter(x1,y)"
   ]
  },
  {
   "cell_type": "code",
   "execution_count": 31,
   "metadata": {},
   "outputs": [],
   "source": [
    "est1 = sm.OLS(y,x2)"
   ]
  },
  {
   "cell_type": "code",
   "execution_count": 32,
   "metadata": {},
   "outputs": [],
   "source": [
    "est2 = est1.fit()"
   ]
  },
  {
   "cell_type": "code",
   "execution_count": 33,
   "metadata": {},
   "outputs": [
    {
     "name": "stdout",
     "output_type": "stream",
     "text": [
      "                            OLS Regression Results                            \n",
      "==============================================================================\n",
      "Dep. Variable:                  price   R-squared:                       0.001\n",
      "Model:                            OLS   Adj. R-squared:                  0.001\n",
      "Method:                 Least Squares   F-statistic:                     125.6\n",
      "Date:                Tue, 09 Jun 2020   Prob (F-statistic):           3.84e-29\n",
      "Time:                        20:46:20   Log-Likelihood:            -9.9309e+05\n",
      "No. Observations:              109807   AIC:                         1.986e+06\n",
      "Df Residuals:                  109805   BIC:                         1.986e+06\n",
      "Df Model:                           1                                         \n",
      "Covariance Type:            nonrobust                                         \n",
      "================================================================================\n",
      "                   coef    std err          t      P>|t|      [0.025      0.975]\n",
      "--------------------------------------------------------------------------------\n",
      "const         3200.9037     20.046    159.674      0.000    3161.613    3240.195\n",
      "numeric_time    15.0680      1.344     11.208      0.000      12.433      17.703\n",
      "==============================================================================\n",
      "Omnibus:                   389426.838   Durbin-Watson:                   0.071\n",
      "Prob(Omnibus):                  0.000   Jarque-Bera (JB):            17456.759\n",
      "Skew:                           0.136   Prob(JB):                         0.00\n",
      "Kurtosis:                       1.066   Cond. No.                         48.5\n",
      "==============================================================================\n",
      "\n",
      "Warnings:\n",
      "[1] Standard Errors assume that the covariance matrix of the errors is correctly specified.\n"
     ]
    }
   ],
   "source": [
    "print(est2.summary())"
   ]
  },
  {
   "cell_type": "markdown",
   "metadata": {},
   "source": [
    "The coefficient is 15.068 and p-value is much smaller than the significance level of 5%. So we conclude that there is enough evidence that the original air price tickets are related to departure time."
   ]
  },
  {
   "cell_type": "markdown",
   "metadata": {},
   "source": [
    "#### (5) Are the discount rates related to how long in advance tickets are purchased?"
   ]
  },
  {
   "cell_type": "markdown",
   "metadata": {},
   "source": [
    "To answer this question, we run linear regression with rate being target variable and dateDifference being explanatory variable for each cabin class."
   ]
  },
  {
   "cell_type": "code",
   "execution_count": 34,
   "metadata": {},
   "outputs": [
    {
     "data": {
      "text/plain": [
       "LinearRegression(copy_X=True, fit_intercept=True, n_jobs=None, normalize=False)"
      ]
     },
     "execution_count": 34,
     "metadata": {},
     "output_type": "execute_result"
    }
   ],
   "source": [
    "# Run regression for class Y\n",
    "x_Y = data_Y[['dateDifference']].values\n",
    "y_Y = data_Y['rate'].values\n",
    "regr.fit(x_Y,y_Y)"
   ]
  },
  {
   "cell_type": "code",
   "execution_count": 35,
   "metadata": {},
   "outputs": [
    {
     "data": {
      "text/plain": [
       "<matplotlib.collections.PathCollection at 0x1c2f73db50>"
      ]
     },
     "execution_count": 35,
     "metadata": {},
     "output_type": "execute_result"
    },
    {
     "data": {
      "image/png": "[encoded data removed]",
      "text/plain": [
       "<Figure size 432x288 with 1 Axes>"
      ]
     },
     "metadata": {
      "needs_background": "light"
     },
     "output_type": "display_data"
    }
   ],
   "source": [
    "plt.scatter(x_Y,y_Y)"
   ]
  },
  {
   "cell_type": "code",
   "execution_count": 36,
   "metadata": {},
   "outputs": [
    {
     "data": {
      "image/png": "[encoded data removed]",
      "text/plain": [
       "<Figure size 432x288 with 1 Axes>"
      ]
     },
     "metadata": {
      "needs_background": "light"
     },
     "output_type": "display_data"
    }
   ],
   "source": [
    "ax = sns.boxplot(x=\"dateDifference\", y=\"rate\", data=data_Y)"
   ]
  },
  {
   "cell_type": "code",
   "execution_count": 37,
   "metadata": {},
   "outputs": [],
   "source": [
    "data_Y_7 = data_Y[data_Y['dateDifference']<=7]"
   ]
  },
  {
   "cell_type": "code",
   "execution_count": 38,
   "metadata": {},
   "outputs": [
    {
     "data": {
      "text/plain": [
       "LinearRegression(copy_X=True, fit_intercept=True, n_jobs=None, normalize=False)"
      ]
     },
     "execution_count": 38,
     "metadata": {},
     "output_type": "execute_result"
    }
   ],
   "source": [
    "x_Y_7 = data_Y_7[['dateDifference']].values\n",
    "y_Y_7 = data_Y_7['rate'].values\n",
    "regr.fit(x_Y_7,y_Y_7)"
   ]
  },
  {
   "cell_type": "code",
   "execution_count": 39,
   "metadata": {},
   "outputs": [
    {
     "name": "stdout",
     "output_type": "stream",
     "text": [
      "Coefficients_Y_7: [-0.01345261]\n"
     ]
    }
   ],
   "source": [
    "print('Coefficients_Y_7:', regr.coef_)"
   ]
  },
  {
   "cell_type": "code",
   "execution_count": 40,
   "metadata": {},
   "outputs": [
    {
     "name": "stdout",
     "output_type": "stream",
     "text": [
      "Coefficients_Y: [-0.01345261]\n"
     ]
    }
   ],
   "source": [
    "print('Coefficients_Y:', regr.coef_)"
   ]
  },
  {
   "cell_type": "code",
   "execution_count": 41,
   "metadata": {},
   "outputs": [
    {
     "name": "stdout",
     "output_type": "stream",
     "text": [
      "Intercept_Y: 0.8230205925786385\n"
     ]
    }
   ],
   "source": [
    "print('Intercept_Y:', regr.intercept_)"
   ]
  },
  {
   "cell_type": "code",
   "execution_count": 42,
   "metadata": {},
   "outputs": [
    {
     "data": {
      "text/plain": [
       "LinearRegression(copy_X=True, fit_intercept=True, n_jobs=None, normalize=False)"
      ]
     },
     "execution_count": 42,
     "metadata": {},
     "output_type": "execute_result"
    }
   ],
   "source": [
    "#Run regression for class C\n",
    "x_C = data_C[['dateDifference']].values\n",
    "y_C = data_C['rate'].values\n",
    "regr.fit(x_C,y_C)"
   ]
  },
  {
   "cell_type": "code",
   "execution_count": 43,
   "metadata": {},
   "outputs": [
    {
     "name": "stdout",
     "output_type": "stream",
     "text": [
      "Coefficients_C: [0.00066177]\n"
     ]
    }
   ],
   "source": [
    "print('Coefficients_C:', regr.coef_)"
   ]
  },
  {
   "cell_type": "code",
   "execution_count": 44,
   "metadata": {},
   "outputs": [
    {
     "name": "stdout",
     "output_type": "stream",
     "text": [
      "Intercept_C: 0.7228316568704538\n"
     ]
    }
   ],
   "source": [
    "print('Intercept_C:', regr.intercept_)"
   ]
  },
  {
   "cell_type": "code",
   "execution_count": 45,
   "metadata": {},
   "outputs": [
    {
     "data": {
      "text/plain": [
       "LinearRegression(copy_X=True, fit_intercept=True, n_jobs=None, normalize=False)"
      ]
     },
     "execution_count": 45,
     "metadata": {},
     "output_type": "execute_result"
    }
   ],
   "source": [
    "#Run regression for class F\n",
    "x_F = data_F[['dateDifference']].values\n",
    "y_F = data_F['rate'].values\n",
    "regr.fit(x_F,y_F)"
   ]
  },
  {
   "cell_type": "code",
   "execution_count": 46,
   "metadata": {},
   "outputs": [
    {
     "name": "stdout",
     "output_type": "stream",
     "text": [
      "Coefficients_F: [0.0003267]\n"
     ]
    }
   ],
   "source": [
    "print('Coefficients_F:', regr.coef_)"
   ]
  },
  {
   "cell_type": "code",
   "execution_count": 47,
   "metadata": {},
   "outputs": [
    {
     "name": "stdout",
     "output_type": "stream",
     "text": [
      "Intercept_F: 0.8191609953496972\n"
     ]
    }
   ],
   "source": [
    "print('Intercept_F:', regr.intercept_)"
   ]
  },
  {
   "cell_type": "markdown",
   "metadata": {},
   "source": [
    "The coefficients for dateDifference are very small for all 3 types of cabin class. Hence, we conclude that discount rates are not related to how long in advance tickets are purchased."
   ]
  },
  {
   "cell_type": "markdown",
   "metadata": {},
   "source": [
    "#### (6) Choose your own attributes to build two Lasso or ridge regression models, one for predicting rate and the other for predicting price. Are the performances of the two regression models significantly different? Why is it so?"
   ]
  },
  {
   "cell_type": "code",
   "execution_count": 48,
   "metadata": {},
   "outputs": [],
   "source": [
    "# Get the day of departure from departureDate (Monday = 0, Sunday = 6)\n",
    "data['Date'] = data['departureDate'].apply(lambda x: x[8:10])\n",
    "data['Month'] = data['departureDate'].apply(lambda x: x[5:7])\n",
    "data['Year'] = data['departureDate'].apply(lambda x: x[:4])\n",
    "data['Day'] = data.apply(lambda r: date(int(r['Year']), int(r['Month']), int(r['Date'])).weekday(), axis=1)"
   ]
  },
  {
   "cell_type": "code",
   "execution_count": 49,
   "metadata": {},
   "outputs": [
    {
     "data": {
      "text/html": [
       "<div>\n",
       "<style scoped>\n",
       "    .dataframe tbody tr th:only-of-type {\n",
       "        vertical-align: middle;\n",
       "    }\n",
       "\n",
       "    .dataframe tbody tr th {\n",
       "        vertical-align: top;\n",
       "    }\n",
       "\n",
       "    .dataframe thead th {\n",
       "        text-align: right;\n",
       "    }\n",
       "</style>\n",
       "<table border=\"1\" class=\"dataframe\">\n",
       "  <thead>\n",
       "    <tr style=\"text-align: right;\">\n",
       "      <th></th>\n",
       "      <th>ID</th>\n",
       "      <th>flightNumber</th>\n",
       "      <th>craftTypeCode</th>\n",
       "      <th>depAirport</th>\n",
       "      <th>traAirport</th>\n",
       "      <th>arrAirport</th>\n",
       "      <th>departureDate</th>\n",
       "      <th>arrivalDate</th>\n",
       "      <th>cabinClass</th>\n",
       "      <th>priceClass</th>\n",
       "      <th>...</th>\n",
       "      <th>rate</th>\n",
       "      <th>createDate</th>\n",
       "      <th>dateDifference</th>\n",
       "      <th>time</th>\n",
       "      <th>numeric_time</th>\n",
       "      <th>airline</th>\n",
       "      <th>Date</th>\n",
       "      <th>Month</th>\n",
       "      <th>Year</th>\n",
       "      <th>Day</th>\n",
       "    </tr>\n",
       "  </thead>\n",
       "  <tbody>\n",
       "    <tr>\n",
       "      <td>0</td>\n",
       "      <td>14393</td>\n",
       "      <td>HO1252</td>\n",
       "      <td>320</td>\n",
       "      <td>PEK</td>\n",
       "      <td>NaN</td>\n",
       "      <td>SHA</td>\n",
       "      <td>2019-01-04 06:35:00</td>\n",
       "      <td>2019-01-04 08:55:00</td>\n",
       "      <td>C</td>\n",
       "      <td>C</td>\n",
       "      <td>...</td>\n",
       "      <td>1.00</td>\n",
       "      <td>2019-01-03 14:26:15</td>\n",
       "      <td>1</td>\n",
       "      <td>06:35</td>\n",
       "      <td>6.583333</td>\n",
       "      <td>HO</td>\n",
       "      <td>04</td>\n",
       "      <td>01</td>\n",
       "      <td>2019</td>\n",
       "      <td>4</td>\n",
       "    </tr>\n",
       "    <tr>\n",
       "      <td>1</td>\n",
       "      <td>14409</td>\n",
       "      <td>MU5138</td>\n",
       "      <td>33L</td>\n",
       "      <td>PEK</td>\n",
       "      <td>NaN</td>\n",
       "      <td>SHA</td>\n",
       "      <td>2019-01-04 07:00:00</td>\n",
       "      <td>2019-01-04 09:15:00</td>\n",
       "      <td>C</td>\n",
       "      <td>I</td>\n",
       "      <td>...</td>\n",
       "      <td>0.31</td>\n",
       "      <td>2019-01-03 14:26:15</td>\n",
       "      <td>1</td>\n",
       "      <td>07:00</td>\n",
       "      <td>7.000000</td>\n",
       "      <td>MU</td>\n",
       "      <td>04</td>\n",
       "      <td>01</td>\n",
       "      <td>2019</td>\n",
       "      <td>4</td>\n",
       "    </tr>\n",
       "    <tr>\n",
       "      <td>2</td>\n",
       "      <td>14415</td>\n",
       "      <td>MU5138</td>\n",
       "      <td>33L</td>\n",
       "      <td>PEK</td>\n",
       "      <td>NaN</td>\n",
       "      <td>SHA</td>\n",
       "      <td>2019-01-04 07:00:00</td>\n",
       "      <td>2019-01-04 09:15:00</td>\n",
       "      <td>C</td>\n",
       "      <td>J</td>\n",
       "      <td>...</td>\n",
       "      <td>1.00</td>\n",
       "      <td>2019-01-03 14:26:15</td>\n",
       "      <td>1</td>\n",
       "      <td>07:00</td>\n",
       "      <td>7.000000</td>\n",
       "      <td>MU</td>\n",
       "      <td>04</td>\n",
       "      <td>01</td>\n",
       "      <td>2019</td>\n",
       "      <td>4</td>\n",
       "    </tr>\n",
       "    <tr>\n",
       "      <td>3</td>\n",
       "      <td>14429</td>\n",
       "      <td>HU7605</td>\n",
       "      <td>350</td>\n",
       "      <td>PEK</td>\n",
       "      <td>NaN</td>\n",
       "      <td>SHA</td>\n",
       "      <td>2019-01-04 07:20:00</td>\n",
       "      <td>2019-01-04 09:35:00</td>\n",
       "      <td>C</td>\n",
       "      <td>I</td>\n",
       "      <td>...</td>\n",
       "      <td>0.29</td>\n",
       "      <td>2019-01-03 14:26:15</td>\n",
       "      <td>1</td>\n",
       "      <td>07:20</td>\n",
       "      <td>7.333333</td>\n",
       "      <td>HU</td>\n",
       "      <td>04</td>\n",
       "      <td>01</td>\n",
       "      <td>2019</td>\n",
       "      <td>4</td>\n",
       "    </tr>\n",
       "    <tr>\n",
       "      <td>4</td>\n",
       "      <td>14431</td>\n",
       "      <td>HU7605</td>\n",
       "      <td>350</td>\n",
       "      <td>PEK</td>\n",
       "      <td>NaN</td>\n",
       "      <td>SHA</td>\n",
       "      <td>2019-01-04 07:20:00</td>\n",
       "      <td>2019-01-04 09:35:00</td>\n",
       "      <td>C</td>\n",
       "      <td>I</td>\n",
       "      <td>...</td>\n",
       "      <td>0.29</td>\n",
       "      <td>2019-01-03 14:26:15</td>\n",
       "      <td>1</td>\n",
       "      <td>07:20</td>\n",
       "      <td>7.333333</td>\n",
       "      <td>HU</td>\n",
       "      <td>04</td>\n",
       "      <td>01</td>\n",
       "      <td>2019</td>\n",
       "      <td>4</td>\n",
       "    </tr>\n",
       "  </tbody>\n",
       "</table>\n",
       "<p>5 rows × 21 columns</p>\n",
       "</div>"
      ],
      "text/plain": [
       "      ID flightNumber craftTypeCode depAirport traAirport arrAirport  \\\n",
       "0  14393       HO1252           320        PEK        NaN        SHA   \n",
       "1  14409       MU5138           33L        PEK        NaN        SHA   \n",
       "2  14415       MU5138           33L        PEK        NaN        SHA   \n",
       "3  14429       HU7605           350        PEK        NaN        SHA   \n",
       "4  14431       HU7605           350        PEK        NaN        SHA   \n",
       "\n",
       "         departureDate          arrivalDate cabinClass priceClass  ...  rate  \\\n",
       "0  2019-01-04 06:35:00  2019-01-04 08:55:00          C          C  ...  1.00   \n",
       "1  2019-01-04 07:00:00  2019-01-04 09:15:00          C          I  ...  0.31   \n",
       "2  2019-01-04 07:00:00  2019-01-04 09:15:00          C          J  ...  1.00   \n",
       "3  2019-01-04 07:20:00  2019-01-04 09:35:00          C          I  ...  0.29   \n",
       "4  2019-01-04 07:20:00  2019-01-04 09:35:00          C          I  ...  0.29   \n",
       "\n",
       "            createDate dateDifference    time numeric_time  airline Date  \\\n",
       "0  2019-01-03 14:26:15              1   06:35     6.583333       HO   04   \n",
       "1  2019-01-03 14:26:15              1   07:00     7.000000       MU   04   \n",
       "2  2019-01-03 14:26:15              1   07:00     7.000000       MU   04   \n",
       "3  2019-01-03 14:26:15              1   07:20     7.333333       HU   04   \n",
       "4  2019-01-03 14:26:15              1   07:20     7.333333       HU   04   \n",
       "\n",
       "  Month  Year Day  \n",
       "0    01  2019   4  \n",
       "1    01  2019   4  \n",
       "2    01  2019   4  \n",
       "3    01  2019   4  \n",
       "4    01  2019   4  \n",
       "\n",
       "[5 rows x 21 columns]"
      ]
     },
     "execution_count": 49,
     "metadata": {},
     "output_type": "execute_result"
    }
   ],
   "source": [
    "data.head()"
   ]
  },
  {
   "cell_type": "code",
   "execution_count": 50,
   "metadata": {},
   "outputs": [],
   "source": [
    "# From Day, we derive whether the departureDate is on weekend or weekday\n",
    "data['weekend'] = data['Day'].apply(lambda x: 1 if x>=5 else 0)"
   ]
  },
  {
   "cell_type": "code",
   "execution_count": 51,
   "metadata": {},
   "outputs": [],
   "source": [
    "# Running regression with the numeric_time may not be the best since time is more categorical rather than ordinal. \n",
    "# Hence, we divide numeric_time to peak hours (12pm to 5pm) and non-peak hours (5pm to 12pm).\n",
    "data['peak'] = data['numeric_time'].apply(lambda x: 1 if (x>=12 and x<=17) else 0)"
   ]
  },
  {
   "cell_type": "code",
   "execution_count": 52,
   "metadata": {
    "scrolled": true
   },
   "outputs": [
    {
     "data": {
      "text/html": [
       "<div>\n",
       "<style scoped>\n",
       "    .dataframe tbody tr th:only-of-type {\n",
       "        vertical-align: middle;\n",
       "    }\n",
       "\n",
       "    .dataframe tbody tr th {\n",
       "        vertical-align: top;\n",
       "    }\n",
       "\n",
       "    .dataframe thead th {\n",
       "        text-align: right;\n",
       "    }\n",
       "</style>\n",
       "<table border=\"1\" class=\"dataframe\">\n",
       "  <thead>\n",
       "    <tr style=\"text-align: right;\">\n",
       "      <th></th>\n",
       "      <th>ID</th>\n",
       "      <th>flightNumber</th>\n",
       "      <th>craftTypeCode</th>\n",
       "      <th>depAirport</th>\n",
       "      <th>traAirport</th>\n",
       "      <th>arrAirport</th>\n",
       "      <th>departureDate</th>\n",
       "      <th>arrivalDate</th>\n",
       "      <th>cabinClass</th>\n",
       "      <th>priceClass</th>\n",
       "      <th>...</th>\n",
       "      <th>dateDifference</th>\n",
       "      <th>time</th>\n",
       "      <th>numeric_time</th>\n",
       "      <th>airline</th>\n",
       "      <th>Date</th>\n",
       "      <th>Month</th>\n",
       "      <th>Year</th>\n",
       "      <th>Day</th>\n",
       "      <th>weekend</th>\n",
       "      <th>peak</th>\n",
       "    </tr>\n",
       "  </thead>\n",
       "  <tbody>\n",
       "    <tr>\n",
       "      <td>0</td>\n",
       "      <td>14393</td>\n",
       "      <td>HO1252</td>\n",
       "      <td>320</td>\n",
       "      <td>PEK</td>\n",
       "      <td>NaN</td>\n",
       "      <td>SHA</td>\n",
       "      <td>2019-01-04 06:35:00</td>\n",
       "      <td>2019-01-04 08:55:00</td>\n",
       "      <td>C</td>\n",
       "      <td>C</td>\n",
       "      <td>...</td>\n",
       "      <td>1</td>\n",
       "      <td>06:35</td>\n",
       "      <td>6.583333</td>\n",
       "      <td>HO</td>\n",
       "      <td>04</td>\n",
       "      <td>01</td>\n",
       "      <td>2019</td>\n",
       "      <td>4</td>\n",
       "      <td>0</td>\n",
       "      <td>0</td>\n",
       "    </tr>\n",
       "    <tr>\n",
       "      <td>1</td>\n",
       "      <td>14409</td>\n",
       "      <td>MU5138</td>\n",
       "      <td>33L</td>\n",
       "      <td>PEK</td>\n",
       "      <td>NaN</td>\n",
       "      <td>SHA</td>\n",
       "      <td>2019-01-04 07:00:00</td>\n",
       "      <td>2019-01-04 09:15:00</td>\n",
       "      <td>C</td>\n",
       "      <td>I</td>\n",
       "      <td>...</td>\n",
       "      <td>1</td>\n",
       "      <td>07:00</td>\n",
       "      <td>7.000000</td>\n",
       "      <td>MU</td>\n",
       "      <td>04</td>\n",
       "      <td>01</td>\n",
       "      <td>2019</td>\n",
       "      <td>4</td>\n",
       "      <td>0</td>\n",
       "      <td>0</td>\n",
       "    </tr>\n",
       "    <tr>\n",
       "      <td>2</td>\n",
       "      <td>14415</td>\n",
       "      <td>MU5138</td>\n",
       "      <td>33L</td>\n",
       "      <td>PEK</td>\n",
       "      <td>NaN</td>\n",
       "      <td>SHA</td>\n",
       "      <td>2019-01-04 07:00:00</td>\n",
       "      <td>2019-01-04 09:15:00</td>\n",
       "      <td>C</td>\n",
       "      <td>J</td>\n",
       "      <td>...</td>\n",
       "      <td>1</td>\n",
       "      <td>07:00</td>\n",
       "      <td>7.000000</td>\n",
       "      <td>MU</td>\n",
       "      <td>04</td>\n",
       "      <td>01</td>\n",
       "      <td>2019</td>\n",
       "      <td>4</td>\n",
       "      <td>0</td>\n",
       "      <td>0</td>\n",
       "    </tr>\n",
       "    <tr>\n",
       "      <td>3</td>\n",
       "      <td>14429</td>\n",
       "      <td>HU7605</td>\n",
       "      <td>350</td>\n",
       "      <td>PEK</td>\n",
       "      <td>NaN</td>\n",
       "      <td>SHA</td>\n",
       "      <td>2019-01-04 07:20:00</td>\n",
       "      <td>2019-01-04 09:35:00</td>\n",
       "      <td>C</td>\n",
       "      <td>I</td>\n",
       "      <td>...</td>\n",
       "      <td>1</td>\n",
       "      <td>07:20</td>\n",
       "      <td>7.333333</td>\n",
       "      <td>HU</td>\n",
       "      <td>04</td>\n",
       "      <td>01</td>\n",
       "      <td>2019</td>\n",
       "      <td>4</td>\n",
       "      <td>0</td>\n",
       "      <td>0</td>\n",
       "    </tr>\n",
       "    <tr>\n",
       "      <td>4</td>\n",
       "      <td>14431</td>\n",
       "      <td>HU7605</td>\n",
       "      <td>350</td>\n",
       "      <td>PEK</td>\n",
       "      <td>NaN</td>\n",
       "      <td>SHA</td>\n",
       "      <td>2019-01-04 07:20:00</td>\n",
       "      <td>2019-01-04 09:35:00</td>\n",
       "      <td>C</td>\n",
       "      <td>I</td>\n",
       "      <td>...</td>\n",
       "      <td>1</td>\n",
       "      <td>07:20</td>\n",
       "      <td>7.333333</td>\n",
       "      <td>HU</td>\n",
       "      <td>04</td>\n",
       "      <td>01</td>\n",
       "      <td>2019</td>\n",
       "      <td>4</td>\n",
       "      <td>0</td>\n",
       "      <td>0</td>\n",
       "    </tr>\n",
       "  </tbody>\n",
       "</table>\n",
       "<p>5 rows × 23 columns</p>\n",
       "</div>"
      ],
      "text/plain": [
       "      ID flightNumber craftTypeCode depAirport traAirport arrAirport  \\\n",
       "0  14393       HO1252           320        PEK        NaN        SHA   \n",
       "1  14409       MU5138           33L        PEK        NaN        SHA   \n",
       "2  14415       MU5138           33L        PEK        NaN        SHA   \n",
       "3  14429       HU7605           350        PEK        NaN        SHA   \n",
       "4  14431       HU7605           350        PEK        NaN        SHA   \n",
       "\n",
       "         departureDate          arrivalDate cabinClass priceClass  ...  \\\n",
       "0  2019-01-04 06:35:00  2019-01-04 08:55:00          C          C  ...   \n",
       "1  2019-01-04 07:00:00  2019-01-04 09:15:00          C          I  ...   \n",
       "2  2019-01-04 07:00:00  2019-01-04 09:15:00          C          J  ...   \n",
       "3  2019-01-04 07:20:00  2019-01-04 09:35:00          C          I  ...   \n",
       "4  2019-01-04 07:20:00  2019-01-04 09:35:00          C          I  ...   \n",
       "\n",
       "   dateDifference    time numeric_time  airline Date  Month  Year Day weekend  \\\n",
       "0               1   06:35     6.583333       HO   04     01  2019   4       0   \n",
       "1               1   07:00     7.000000       MU   04     01  2019   4       0   \n",
       "2               1   07:00     7.000000       MU   04     01  2019   4       0   \n",
       "3               1   07:20     7.333333       HU   04     01  2019   4       0   \n",
       "4               1   07:20     7.333333       HU   04     01  2019   4       0   \n",
       "\n",
       "  peak  \n",
       "0    0  \n",
       "1    0  \n",
       "2    0  \n",
       "3    0  \n",
       "4    0  \n",
       "\n",
       "[5 rows x 23 columns]"
      ]
     },
     "execution_count": 52,
     "metadata": {},
     "output_type": "execute_result"
    }
   ],
   "source": [
    "data.head()"
   ]
  },
  {
   "cell_type": "code",
   "execution_count": 53,
   "metadata": {},
   "outputs": [],
   "source": [
    "data['hour'] = data['numeric_time'].apply(lambda x: str(int(x)))"
   ]
  },
  {
   "cell_type": "code",
   "execution_count": 54,
   "metadata": {},
   "outputs": [
    {
     "data": {
      "text/plain": [
       "Index(['ID', 'flightNumber', 'craftTypeCode', 'depAirport', 'traAirport',\n",
       "       'arrAirport', 'departureDate', 'arrivalDate', 'cabinClass',\n",
       "       'priceClass', 'price', 'rate', 'createDate', 'dateDifference', 'time',\n",
       "       'numeric_time', 'airline', 'Date', 'Month', 'Year', 'Day', 'weekend',\n",
       "       'peak', 'hour'],\n",
       "      dtype='object')"
      ]
     },
     "execution_count": 54,
     "metadata": {},
     "output_type": "execute_result"
    }
   ],
   "source": [
    "data.columns"
   ]
  },
  {
   "cell_type": "code",
   "execution_count": 55,
   "metadata": {},
   "outputs": [],
   "source": [
    "# Perform one-hot encoding for cabinClass and airline\n",
    "df = pd.get_dummies(data[['price', 'rate','weekend',\n",
    "       'peak','dateDifference','cabinClass','airline','Day','Month','hour']])"
   ]
  },
  {
   "cell_type": "code",
   "execution_count": 56,
   "metadata": {},
   "outputs": [
    {
     "data": {
      "text/html": [
       "<div>\n",
       "<style scoped>\n",
       "    .dataframe tbody tr th:only-of-type {\n",
       "        vertical-align: middle;\n",
       "    }\n",
       "\n",
       "    .dataframe tbody tr th {\n",
       "        vertical-align: top;\n",
       "    }\n",
       "\n",
       "    .dataframe thead th {\n",
       "        text-align: right;\n",
       "    }\n",
       "</style>\n",
       "<table border=\"1\" class=\"dataframe\">\n",
       "  <thead>\n",
       "    <tr style=\"text-align: right;\">\n",
       "      <th></th>\n",
       "      <th>price</th>\n",
       "      <th>rate</th>\n",
       "      <th>weekend</th>\n",
       "      <th>peak</th>\n",
       "      <th>dateDifference</th>\n",
       "      <th>Day</th>\n",
       "      <th>cabinClass_C</th>\n",
       "      <th>cabinClass_F</th>\n",
       "      <th>cabinClass_Y</th>\n",
       "      <th>airline_CA</th>\n",
       "      <th>...</th>\n",
       "      <th>hour_16</th>\n",
       "      <th>hour_17</th>\n",
       "      <th>hour_18</th>\n",
       "      <th>hour_19</th>\n",
       "      <th>hour_20</th>\n",
       "      <th>hour_21</th>\n",
       "      <th>hour_6</th>\n",
       "      <th>hour_7</th>\n",
       "      <th>hour_8</th>\n",
       "      <th>hour_9</th>\n",
       "    </tr>\n",
       "  </thead>\n",
       "  <tbody>\n",
       "    <tr>\n",
       "      <td>0</td>\n",
       "      <td>1860</td>\n",
       "      <td>1.00</td>\n",
       "      <td>0</td>\n",
       "      <td>0</td>\n",
       "      <td>1</td>\n",
       "      <td>4</td>\n",
       "      <td>1</td>\n",
       "      <td>0</td>\n",
       "      <td>0</td>\n",
       "      <td>0</td>\n",
       "      <td>...</td>\n",
       "      <td>0</td>\n",
       "      <td>0</td>\n",
       "      <td>0</td>\n",
       "      <td>0</td>\n",
       "      <td>0</td>\n",
       "      <td>0</td>\n",
       "      <td>1</td>\n",
       "      <td>0</td>\n",
       "      <td>0</td>\n",
       "      <td>0</td>\n",
       "    </tr>\n",
       "    <tr>\n",
       "      <td>1</td>\n",
       "      <td>1640</td>\n",
       "      <td>0.31</td>\n",
       "      <td>0</td>\n",
       "      <td>0</td>\n",
       "      <td>1</td>\n",
       "      <td>4</td>\n",
       "      <td>1</td>\n",
       "      <td>0</td>\n",
       "      <td>0</td>\n",
       "      <td>0</td>\n",
       "      <td>...</td>\n",
       "      <td>0</td>\n",
       "      <td>0</td>\n",
       "      <td>0</td>\n",
       "      <td>0</td>\n",
       "      <td>0</td>\n",
       "      <td>0</td>\n",
       "      <td>0</td>\n",
       "      <td>1</td>\n",
       "      <td>0</td>\n",
       "      <td>0</td>\n",
       "    </tr>\n",
       "    <tr>\n",
       "      <td>2</td>\n",
       "      <td>5360</td>\n",
       "      <td>1.00</td>\n",
       "      <td>0</td>\n",
       "      <td>0</td>\n",
       "      <td>1</td>\n",
       "      <td>4</td>\n",
       "      <td>1</td>\n",
       "      <td>0</td>\n",
       "      <td>0</td>\n",
       "      <td>0</td>\n",
       "      <td>...</td>\n",
       "      <td>0</td>\n",
       "      <td>0</td>\n",
       "      <td>0</td>\n",
       "      <td>0</td>\n",
       "      <td>0</td>\n",
       "      <td>0</td>\n",
       "      <td>0</td>\n",
       "      <td>1</td>\n",
       "      <td>0</td>\n",
       "      <td>0</td>\n",
       "    </tr>\n",
       "    <tr>\n",
       "      <td>3</td>\n",
       "      <td>1635</td>\n",
       "      <td>0.29</td>\n",
       "      <td>0</td>\n",
       "      <td>0</td>\n",
       "      <td>1</td>\n",
       "      <td>4</td>\n",
       "      <td>1</td>\n",
       "      <td>0</td>\n",
       "      <td>0</td>\n",
       "      <td>0</td>\n",
       "      <td>...</td>\n",
       "      <td>0</td>\n",
       "      <td>0</td>\n",
       "      <td>0</td>\n",
       "      <td>0</td>\n",
       "      <td>0</td>\n",
       "      <td>0</td>\n",
       "      <td>0</td>\n",
       "      <td>1</td>\n",
       "      <td>0</td>\n",
       "      <td>0</td>\n",
       "    </tr>\n",
       "    <tr>\n",
       "      <td>4</td>\n",
       "      <td>1640</td>\n",
       "      <td>0.29</td>\n",
       "      <td>0</td>\n",
       "      <td>0</td>\n",
       "      <td>1</td>\n",
       "      <td>4</td>\n",
       "      <td>1</td>\n",
       "      <td>0</td>\n",
       "      <td>0</td>\n",
       "      <td>0</td>\n",
       "      <td>...</td>\n",
       "      <td>0</td>\n",
       "      <td>0</td>\n",
       "      <td>0</td>\n",
       "      <td>0</td>\n",
       "      <td>0</td>\n",
       "      <td>0</td>\n",
       "      <td>0</td>\n",
       "      <td>1</td>\n",
       "      <td>0</td>\n",
       "      <td>0</td>\n",
       "    </tr>\n",
       "  </tbody>\n",
       "</table>\n",
       "<p>5 rows × 40 columns</p>\n",
       "</div>"
      ],
      "text/plain": [
       "   price  rate  weekend  peak  dateDifference  Day  cabinClass_C  \\\n",
       "0   1860  1.00        0     0               1    4             1   \n",
       "1   1640  0.31        0     0               1    4             1   \n",
       "2   5360  1.00        0     0               1    4             1   \n",
       "3   1635  0.29        0     0               1    4             1   \n",
       "4   1640  0.29        0     0               1    4             1   \n",
       "\n",
       "   cabinClass_F  cabinClass_Y  airline_CA  ...  hour_16  hour_17  hour_18  \\\n",
       "0             0             0           0  ...        0        0        0   \n",
       "1             0             0           0  ...        0        0        0   \n",
       "2             0             0           0  ...        0        0        0   \n",
       "3             0             0           0  ...        0        0        0   \n",
       "4             0             0           0  ...        0        0        0   \n",
       "\n",
       "   hour_19  hour_20  hour_21  hour_6  hour_7  hour_8  hour_9  \n",
       "0        0        0        0       1       0       0       0  \n",
       "1        0        0        0       0       1       0       0  \n",
       "2        0        0        0       0       1       0       0  \n",
       "3        0        0        0       0       1       0       0  \n",
       "4        0        0        0       0       1       0       0  \n",
       "\n",
       "[5 rows x 40 columns]"
      ]
     },
     "execution_count": 56,
     "metadata": {},
     "output_type": "execute_result"
    }
   ],
   "source": [
    "df.head()"
   ]
  },
  {
   "cell_type": "code",
   "execution_count": 57,
   "metadata": {},
   "outputs": [
    {
     "data": {
      "text/plain": [
       "Index(['price', 'rate', 'weekend', 'peak', 'dateDifference', 'Day',\n",
       "       'cabinClass_C', 'cabinClass_F', 'cabinClass_Y', 'airline_CA',\n",
       "       'airline_CZ', 'airline_FM', 'airline_HO', 'airline_HU', 'airline_MF',\n",
       "       'airline_MU', 'Month_01', 'Month_02', 'Month_03', 'Month_04',\n",
       "       'Month_05', 'Month_06', 'Month_07', 'Month_08', 'hour_10', 'hour_11',\n",
       "       'hour_12', 'hour_13', 'hour_14', 'hour_15', 'hour_16', 'hour_17',\n",
       "       'hour_18', 'hour_19', 'hour_20', 'hour_21', 'hour_6', 'hour_7',\n",
       "       'hour_8', 'hour_9'],\n",
       "      dtype='object')"
      ]
     },
     "execution_count": 57,
     "metadata": {},
     "output_type": "execute_result"
    }
   ],
   "source": [
    "df.columns"
   ]
  },
  {
   "cell_type": "markdown",
   "metadata": {},
   "source": [
    "#### Model 1: Predicting price"
   ]
  },
  {
   "cell_type": "markdown",
   "metadata": {},
   "source": [
    "##### Lasso"
   ]
  },
  {
   "cell_type": "code",
   "execution_count": 58,
   "metadata": {},
   "outputs": [],
   "source": [
    "x2 = df[['weekend', 'peak', 'dateDifference', 'Day',\n",
    "       'cabinClass_C', 'cabinClass_F', 'cabinClass_Y', 'airline_CA',\n",
    "       'airline_CZ', 'airline_FM', 'airline_HO', 'airline_HU', 'airline_MF',\n",
    "       'airline_MU', 'Month_01', 'Month_02', 'Month_03', 'Month_04',\n",
    "       'Month_05', 'Month_06', 'Month_07', 'Month_08', 'hour_10', 'hour_11',\n",
    "       'hour_12', 'hour_13', 'hour_14', 'hour_15', 'hour_16', 'hour_17',\n",
    "       'hour_18', 'hour_19', 'hour_20', 'hour_21', 'hour_6', 'hour_7',\n",
    "       'hour_8', 'hour_9']]\n",
    "y2 = df['price']"
   ]
  },
  {
   "cell_type": "code",
   "execution_count": 59,
   "metadata": {},
   "outputs": [],
   "source": [
    "x_train, x_test, y_train, y_test = model_selection.train_test_split(x2, y2, test_size=0.2, random_state = 100)"
   ]
  },
  {
   "cell_type": "code",
   "execution_count": 60,
   "metadata": {
    "scrolled": true
   },
   "outputs": [
    {
     "name": "stdout",
     "output_type": "stream",
     "text": [
      "score 0.7202313905188418\n",
      "[-4.84219299e+02  1.08802421e+02 -2.29667540e+00  6.77459484e+01\n",
      "  0.00000000e+00  7.01662235e+02 -2.74694475e+03  4.01288772e+02\n",
      " -2.25923117e+02  0.00000000e+00 -5.77782695e+02  1.38601074e+02\n",
      " -3.10874493e+02  1.50255261e+02  0.00000000e+00 -1.47829385e+02\n",
      " -1.76222814e+01  1.62101231e+02  5.14988499e+01 -0.00000000e+00\n",
      " -2.51612643e+00  0.00000000e+00  0.00000000e+00  9.59321354e+00\n",
      " -4.07311182e+01 -3.66724173e+01  2.86697441e+01  3.04219808e+01\n",
      "  0.00000000e+00  6.40944468e+01  7.40685607e+01  8.12065572e+01\n",
      " -0.00000000e+00 -9.48190729e+01 -0.00000000e+00 -2.01862208e+02\n",
      " -1.28889282e+02 -2.72914227e+00]\n",
      "score 0.7203885286161718\n",
      "[-4.99475842e+02  1.19692444e+02 -2.55465781e+00  7.06716866e+01\n",
      "  1.99259328e+03  2.70527259e+03 -7.54411020e+02  4.10643775e+02\n",
      " -2.45697058e+02 -0.00000000e+00 -5.99838416e+02  1.64693636e+02\n",
      " -3.99137678e+02  1.65526837e+02  4.43815598e-02 -1.56331916e+02\n",
      " -2.55671919e+01  1.75110601e+02  6.24712700e+01 -1.25565174e+00\n",
      " -9.41776238e+00  2.32536576e+01  3.55661206e+00  1.78726143e+01\n",
      " -9.11077720e+01 -5.19466110e+01  3.17071526e+01  2.93585577e+01\n",
      " -0.00000000e+00  7.02509501e+01  9.56841774e+01  9.82109096e+01\n",
      "  0.00000000e+00 -1.11706524e+02 -0.00000000e+00 -2.20715125e+02\n",
      " -1.40586998e+02 -1.22808349e+01]\n"
     ]
    },
    {
     "name": "stderr",
     "output_type": "stream",
     "text": [
      "/Users/hoangtuanminhnguyen/opt/anaconda3/lib/python3.7/site-packages/sklearn/linear_model/coordinate_descent.py:475: ConvergenceWarning: Objective did not converge. You might want to increase the number of iterations. Duality gap: 15674153583.448792, tolerance: 74034249.34994143\n",
      "  positive)\n"
     ]
    },
    {
     "name": "stdout",
     "output_type": "stream",
     "text": [
      "score 0.7203912758355635\n",
      "[-5.00935559e+02  1.39173137e+02 -2.60745980e+00  7.09490285e+01\n",
      "  2.34300059e+03  3.05635941e+03 -4.04129871e+02  3.21735713e+02\n",
      " -3.37776037e+02 -9.04535753e+01 -6.92252071e+02  7.77044860e+01\n",
      " -4.97857595e+02  7.67434652e+01  1.46316164e-02 -1.57228131e+02\n",
      " -2.63938335e+01  1.76070669e+02  6.31035548e+01 -2.44056461e+00\n",
      " -1.05026965e+01  2.97608683e+01  5.35797619e+00  1.86565865e+01\n",
      " -1.14463878e+02 -7.18822288e+01  1.34703516e+01  1.05944197e+01\n",
      " -2.09761859e+01  6.81758597e+01  9.79024903e+01  9.97777664e+01\n",
      "  7.16719013e-01 -1.13463139e+02  0.00000000e+00 -2.22919581e+02\n",
      " -1.41929076e+02 -1.34247210e+01]\n",
      "score 0.7203928027390929\n",
      "[-5.01091331e+02  1.42199119e+02 -2.61578074e+00  7.09745610e+01\n",
      "  2.37803603e+03  3.09146413e+03 -3.69101288e+02  3.01452199e+02\n",
      " -3.58632896e+02 -1.11262498e+02 -9.63337476e+02  5.76363266e+01\n",
      " -5.19115459e+02  5.64339471e+01  0.00000000e+00 -1.57327964e+02\n",
      " -2.65110379e+01  1.76147540e+02  6.31332608e+01 -2.58897364e+00\n",
      " -1.06374094e+01  3.04395817e+01  4.17834501e+01  5.49819082e+01\n",
      " -8.16201040e+01 -3.87056520e+01  4.68086540e+01  4.38715197e+01\n",
      "  1.20031205e+01  1.04057840e+02  1.34531829e+02  1.36178423e+02\n",
      "  3.71871931e+01 -7.73880919e+01  2.86823862e+02 -1.86906478e+02\n",
      " -1.05796485e+02  2.27279635e+01]\n"
     ]
    },
    {
     "name": "stderr",
     "output_type": "stream",
     "text": [
      "/Users/hoangtuanminhnguyen/opt/anaconda3/lib/python3.7/site-packages/sklearn/linear_model/coordinate_descent.py:475: ConvergenceWarning: Objective did not converge. You might want to increase the number of iterations. Duality gap: 66370152910.293304, tolerance: 74034249.34994143\n",
      "  positive)\n"
     ]
    }
   ],
   "source": [
    "for alpha in [1, 0.1, 0.01, 0.001]:\n",
    "    lasso = linear_model.Lasso(alpha = alpha)\n",
    "    lasso.fit(x_train, y_train)\n",
    "    print('score', lasso.score(x_test, y_test))\n",
    "    print(lasso.coef_)"
   ]
  },
  {
   "cell_type": "code",
   "execution_count": 61,
   "metadata": {},
   "outputs": [],
   "source": [
    "y_pred = lasso.predict(x_test)"
   ]
  },
  {
   "cell_type": "code",
   "execution_count": 62,
   "metadata": {},
   "outputs": [
    {
     "name": "stdout",
     "output_type": "stream",
     "text": [
      "0.7203942576935205\n",
      "655.5003264106515\n"
     ]
    },
    {
     "ename": "TypeError",
     "evalue": "mean_squared_error() got an unexpected keyword argument 'squared'",
     "output_type": "error",
     "traceback": [
      "\u001b[0;31m---------------------------------------------------------------------------\u001b[0m",
      "\u001b[0;31mTypeError\u001b[0m                                 Traceback (most recent call last)",
      "\u001b[0;32m<ipython-input-62-e345a2bfce28>\u001b[0m in \u001b[0;36m<module>\u001b[0;34m\u001b[0m\n\u001b[1;32m      1\u001b[0m \u001b[0mprint\u001b[0m\u001b[0;34m(\u001b[0m\u001b[0mmetrics\u001b[0m\u001b[0;34m.\u001b[0m\u001b[0mexplained_variance_score\u001b[0m\u001b[0;34m(\u001b[0m\u001b[0my_test\u001b[0m\u001b[0;34m,\u001b[0m \u001b[0my_pred\u001b[0m\u001b[0;34m)\u001b[0m\u001b[0;34m)\u001b[0m\u001b[0;34m\u001b[0m\u001b[0;34m\u001b[0m\u001b[0m\n\u001b[1;32m      2\u001b[0m \u001b[0mprint\u001b[0m\u001b[0;34m(\u001b[0m\u001b[0mmetrics\u001b[0m\u001b[0;34m.\u001b[0m\u001b[0mmean_absolute_error\u001b[0m\u001b[0;34m(\u001b[0m\u001b[0my_test\u001b[0m\u001b[0;34m,\u001b[0m \u001b[0my_pred\u001b[0m\u001b[0;34m)\u001b[0m\u001b[0;34m)\u001b[0m\u001b[0;34m\u001b[0m\u001b[0;34m\u001b[0m\u001b[0m\n\u001b[0;32m----> 3\u001b[0;31m \u001b[0mprint\u001b[0m\u001b[0;34m(\u001b[0m\u001b[0mmetrics\u001b[0m\u001b[0;34m.\u001b[0m\u001b[0mmean_squared_error\u001b[0m\u001b[0;34m(\u001b[0m\u001b[0my_test\u001b[0m\u001b[0;34m,\u001b[0m \u001b[0my_pred\u001b[0m\u001b[0;34m,\u001b[0m \u001b[0msquared\u001b[0m\u001b[0;34m=\u001b[0m\u001b[0;32mFalse\u001b[0m\u001b[0;34m)\u001b[0m\u001b[0;34m)\u001b[0m\u001b[0;34m\u001b[0m\u001b[0;34m\u001b[0m\u001b[0m\n\u001b[0m",
      "\u001b[0;31mTypeError\u001b[0m: mean_squared_error() got an unexpected keyword argument 'squared'"
     ]
    }
   ],
   "source": [
    "print(metrics.explained_variance_score(y_test, y_pred))\n",
    "print(metrics.mean_absolute_error(y_test, y_pred))\n",
    "print(metrics.mean_squared_error(y_test, y_pred, squared=False))"
   ]
  },
  {
   "cell_type": "markdown",
   "metadata": {},
   "source": [
    "##### Ridge"
   ]
  },
  {
   "cell_type": "code",
   "execution_count": null,
   "metadata": {},
   "outputs": [],
   "source": [
    "for alpha in [1, 0.1, 0.01, 0.001]:\n",
    "    ridge = linear_model.Ridge(alpha = alpha)\n",
    "    ridge.fit(x_train, y_train)\n",
    "    print('score:', ridge.score(x_test, y_test))\n",
    "    print(ridge.coef_)"
   ]
  },
  {
   "cell_type": "code",
   "execution_count": null,
   "metadata": {},
   "outputs": [],
   "source": [
    "y_pred1 = ridge.predict(x_test)"
   ]
  },
  {
   "cell_type": "code",
   "execution_count": null,
   "metadata": {},
   "outputs": [],
   "source": [
    "print(metrics.explained_variance_score(y_test, y_pred1))\n",
    "print(metrics.mean_absolute_error(y_test, y_pred1))\n",
    "print(metrics.mean_squared_error(y_test, y_pred1, squared=False))"
   ]
  },
  {
   "cell_type": "markdown",
   "metadata": {},
   "source": [
    "#### Model 2: Predicting rate"
   ]
  },
  {
   "cell_type": "code",
   "execution_count": null,
   "metadata": {},
   "outputs": [],
   "source": [
    "x3 = df[['weekend', 'peak', 'dateDifference', 'Day',\n",
    "       'cabinClass_C', 'cabinClass_F', 'cabinClass_Y', 'airline_CA',\n",
    "       'airline_CZ', 'airline_FM', 'airline_HO', 'airline_HU', 'airline_MF',\n",
    "       'airline_MU', 'Month_01', 'Month_02', 'Month_03', 'Month_04',\n",
    "       'Month_05', 'Month_06', 'Month_07', 'Month_08', 'hour_10', 'hour_11',\n",
    "       'hour_12', 'hour_13', 'hour_14', 'hour_15', 'hour_16', 'hour_17',\n",
    "       'hour_18', 'hour_19', 'hour_20', 'hour_21', 'hour_6', 'hour_7',\n",
    "       'hour_8', 'hour_9']]\n",
    "y3 = df['rate']"
   ]
  },
  {
   "cell_type": "code",
   "execution_count": null,
   "metadata": {},
   "outputs": [],
   "source": [
    "x_train_r, x_test_r, y_train_r, y_test_r = model_selection.train_test_split(x3, y3, test_size=0.2, random_state = 100)"
   ]
  },
  {
   "cell_type": "code",
   "execution_count": null,
   "metadata": {},
   "outputs": [],
   "source": [
    "for alpha in [1, 0.1, 0.01, 0.001]:\n",
    "    lasso = linear_model.Lasso(alpha = alpha)\n",
    "    lasso.fit(x_train_r, y_train_r)\n",
    "    print('score', lasso.score(x_test_r, y_test_r))\n",
    "    print(lasso.coef_)"
   ]
  },
  {
   "cell_type": "code",
   "execution_count": null,
   "metadata": {},
   "outputs": [],
   "source": [
    "y_pred_r = lasso.predict(x_test_r)"
   ]
  },
  {
   "cell_type": "code",
   "execution_count": null,
   "metadata": {},
   "outputs": [],
   "source": [
    "print(metrics.explained_variance_score(y_test_r, y_pred_r))\n",
    "print(metrics.mean_absolute_error(y_test_r, y_pred_r))\n",
    "print(metrics.mean_squared_error(y_test_r, y_pred_r, squared=False))"
   ]
  },
  {
   "cell_type": "code",
   "execution_count": null,
   "metadata": {},
   "outputs": [],
   "source": [
    "df['rate'].hist()"
   ]
  },
  {
   "cell_type": "code",
   "execution_count": null,
   "metadata": {},
   "outputs": [],
   "source": [
    "df['price'].hist()"
   ]
  },
  {
   "cell_type": "markdown",
   "metadata": {},
   "source": [
    "The price prediction result is much better than the rate prediction result because the rate distribution is very skewed."
   ]
  },
  {
   "cell_type": "markdown",
   "metadata": {},
   "source": [
    "# 3) Logistic Regression"
   ]
  },
  {
   "cell_type": "markdown",
   "metadata": {},
   "source": [
    "#### (7) Choose your own attributes to build a binary classifier on if there is any discount on the purchase price: class 0 for no discount, class 1 for price being discounted. Identify 2 to 5 important factors that determine if there is discount."
   ]
  },
  {
   "cell_type": "code",
   "execution_count": 63,
   "metadata": {},
   "outputs": [],
   "source": [
    "# Derive target variable Discount (1 if there is discount, 0 if there is no discount) from rate\n",
    "df['Discount'] = df['rate'].apply(lambda x: 1 if x <1 else 0)"
   ]
  },
  {
   "cell_type": "code",
   "execution_count": 64,
   "metadata": {},
   "outputs": [
    {
     "data": {
      "text/html": [
       "<div>\n",
       "<style scoped>\n",
       "    .dataframe tbody tr th:only-of-type {\n",
       "        vertical-align: middle;\n",
       "    }\n",
       "\n",
       "    .dataframe tbody tr th {\n",
       "        vertical-align: top;\n",
       "    }\n",
       "\n",
       "    .dataframe thead th {\n",
       "        text-align: right;\n",
       "    }\n",
       "</style>\n",
       "<table border=\"1\" class=\"dataframe\">\n",
       "  <thead>\n",
       "    <tr style=\"text-align: right;\">\n",
       "      <th></th>\n",
       "      <th>price</th>\n",
       "      <th>rate</th>\n",
       "      <th>weekend</th>\n",
       "      <th>peak</th>\n",
       "      <th>dateDifference</th>\n",
       "      <th>Day</th>\n",
       "      <th>cabinClass_C</th>\n",
       "      <th>cabinClass_F</th>\n",
       "      <th>cabinClass_Y</th>\n",
       "      <th>airline_CA</th>\n",
       "      <th>...</th>\n",
       "      <th>hour_17</th>\n",
       "      <th>hour_18</th>\n",
       "      <th>hour_19</th>\n",
       "      <th>hour_20</th>\n",
       "      <th>hour_21</th>\n",
       "      <th>hour_6</th>\n",
       "      <th>hour_7</th>\n",
       "      <th>hour_8</th>\n",
       "      <th>hour_9</th>\n",
       "      <th>Discount</th>\n",
       "    </tr>\n",
       "  </thead>\n",
       "  <tbody>\n",
       "    <tr>\n",
       "      <td>0</td>\n",
       "      <td>1860</td>\n",
       "      <td>1.00</td>\n",
       "      <td>0</td>\n",
       "      <td>0</td>\n",
       "      <td>1</td>\n",
       "      <td>4</td>\n",
       "      <td>1</td>\n",
       "      <td>0</td>\n",
       "      <td>0</td>\n",
       "      <td>0</td>\n",
       "      <td>...</td>\n",
       "      <td>0</td>\n",
       "      <td>0</td>\n",
       "      <td>0</td>\n",
       "      <td>0</td>\n",
       "      <td>0</td>\n",
       "      <td>1</td>\n",
       "      <td>0</td>\n",
       "      <td>0</td>\n",
       "      <td>0</td>\n",
       "      <td>0</td>\n",
       "    </tr>\n",
       "    <tr>\n",
       "      <td>1</td>\n",
       "      <td>1640</td>\n",
       "      <td>0.31</td>\n",
       "      <td>0</td>\n",
       "      <td>0</td>\n",
       "      <td>1</td>\n",
       "      <td>4</td>\n",
       "      <td>1</td>\n",
       "      <td>0</td>\n",
       "      <td>0</td>\n",
       "      <td>0</td>\n",
       "      <td>...</td>\n",
       "      <td>0</td>\n",
       "      <td>0</td>\n",
       "      <td>0</td>\n",
       "      <td>0</td>\n",
       "      <td>0</td>\n",
       "      <td>0</td>\n",
       "      <td>1</td>\n",
       "      <td>0</td>\n",
       "      <td>0</td>\n",
       "      <td>1</td>\n",
       "    </tr>\n",
       "    <tr>\n",
       "      <td>2</td>\n",
       "      <td>5360</td>\n",
       "      <td>1.00</td>\n",
       "      <td>0</td>\n",
       "      <td>0</td>\n",
       "      <td>1</td>\n",
       "      <td>4</td>\n",
       "      <td>1</td>\n",
       "      <td>0</td>\n",
       "      <td>0</td>\n",
       "      <td>0</td>\n",
       "      <td>...</td>\n",
       "      <td>0</td>\n",
       "      <td>0</td>\n",
       "      <td>0</td>\n",
       "      <td>0</td>\n",
       "      <td>0</td>\n",
       "      <td>0</td>\n",
       "      <td>1</td>\n",
       "      <td>0</td>\n",
       "      <td>0</td>\n",
       "      <td>0</td>\n",
       "    </tr>\n",
       "    <tr>\n",
       "      <td>3</td>\n",
       "      <td>1635</td>\n",
       "      <td>0.29</td>\n",
       "      <td>0</td>\n",
       "      <td>0</td>\n",
       "      <td>1</td>\n",
       "      <td>4</td>\n",
       "      <td>1</td>\n",
       "      <td>0</td>\n",
       "      <td>0</td>\n",
       "      <td>0</td>\n",
       "      <td>...</td>\n",
       "      <td>0</td>\n",
       "      <td>0</td>\n",
       "      <td>0</td>\n",
       "      <td>0</td>\n",
       "      <td>0</td>\n",
       "      <td>0</td>\n",
       "      <td>1</td>\n",
       "      <td>0</td>\n",
       "      <td>0</td>\n",
       "      <td>1</td>\n",
       "    </tr>\n",
       "    <tr>\n",
       "      <td>4</td>\n",
       "      <td>1640</td>\n",
       "      <td>0.29</td>\n",
       "      <td>0</td>\n",
       "      <td>0</td>\n",
       "      <td>1</td>\n",
       "      <td>4</td>\n",
       "      <td>1</td>\n",
       "      <td>0</td>\n",
       "      <td>0</td>\n",
       "      <td>0</td>\n",
       "      <td>...</td>\n",
       "      <td>0</td>\n",
       "      <td>0</td>\n",
       "      <td>0</td>\n",
       "      <td>0</td>\n",
       "      <td>0</td>\n",
       "      <td>0</td>\n",
       "      <td>1</td>\n",
       "      <td>0</td>\n",
       "      <td>0</td>\n",
       "      <td>1</td>\n",
       "    </tr>\n",
       "  </tbody>\n",
       "</table>\n",
       "<p>5 rows × 41 columns</p>\n",
       "</div>"
      ],
      "text/plain": [
       "   price  rate  weekend  peak  dateDifference  Day  cabinClass_C  \\\n",
       "0   1860  1.00        0     0               1    4             1   \n",
       "1   1640  0.31        0     0               1    4             1   \n",
       "2   5360  1.00        0     0               1    4             1   \n",
       "3   1635  0.29        0     0               1    4             1   \n",
       "4   1640  0.29        0     0               1    4             1   \n",
       "\n",
       "   cabinClass_F  cabinClass_Y  airline_CA  ...  hour_17  hour_18  hour_19  \\\n",
       "0             0             0           0  ...        0        0        0   \n",
       "1             0             0           0  ...        0        0        0   \n",
       "2             0             0           0  ...        0        0        0   \n",
       "3             0             0           0  ...        0        0        0   \n",
       "4             0             0           0  ...        0        0        0   \n",
       "\n",
       "   hour_20  hour_21  hour_6  hour_7  hour_8  hour_9  Discount  \n",
       "0        0        0       1       0       0       0         0  \n",
       "1        0        0       0       1       0       0         1  \n",
       "2        0        0       0       1       0       0         0  \n",
       "3        0        0       0       1       0       0         1  \n",
       "4        0        0       0       1       0       0         1  \n",
       "\n",
       "[5 rows x 41 columns]"
      ]
     },
     "execution_count": 64,
     "metadata": {},
     "output_type": "execute_result"
    }
   ],
   "source": [
    "df.head()"
   ]
  },
  {
   "cell_type": "code",
   "execution_count": 65,
   "metadata": {},
   "outputs": [
    {
     "data": {
      "text/plain": [
       "Index(['price', 'rate', 'weekend', 'peak', 'dateDifference', 'Day',\n",
       "       'cabinClass_C', 'cabinClass_F', 'cabinClass_Y', 'airline_CA',\n",
       "       'airline_CZ', 'airline_FM', 'airline_HO', 'airline_HU', 'airline_MF',\n",
       "       'airline_MU', 'Month_01', 'Month_02', 'Month_03', 'Month_04',\n",
       "       'Month_05', 'Month_06', 'Month_07', 'Month_08', 'hour_10', 'hour_11',\n",
       "       'hour_12', 'hour_13', 'hour_14', 'hour_15', 'hour_16', 'hour_17',\n",
       "       'hour_18', 'hour_19', 'hour_20', 'hour_21', 'hour_6', 'hour_7',\n",
       "       'hour_8', 'hour_9', 'Discount'],\n",
       "      dtype='object')"
      ]
     },
     "execution_count": 65,
     "metadata": {},
     "output_type": "execute_result"
    }
   ],
   "source": [
    "df.columns"
   ]
  },
  {
   "cell_type": "code",
   "execution_count": 66,
   "metadata": {},
   "outputs": [],
   "source": [
    "x4 = df[['weekend', 'peak', 'dateDifference', 'Day',\n",
    "       'cabinClass_C', 'cabinClass_F', 'cabinClass_Y', 'airline_CA',\n",
    "       'airline_CZ', 'airline_FM', 'airline_HO', 'airline_HU', 'airline_MF',\n",
    "       'airline_MU', 'Month_01', 'Month_02', 'Month_03', 'Month_04',\n",
    "       'Month_05', 'Month_06', 'Month_07', 'Month_08', 'hour_10', 'hour_11',\n",
    "       'hour_12', 'hour_13', 'hour_14', 'hour_15', 'hour_16', 'hour_17',\n",
    "       'hour_18', 'hour_19', 'hour_20', 'hour_21', 'hour_6', 'hour_7',\n",
    "       'hour_8', 'hour_9']]\n",
    "y4 = df['Discount']"
   ]
  },
  {
   "cell_type": "code",
   "execution_count": 67,
   "metadata": {},
   "outputs": [],
   "source": [
    "x_train_4, x_test_4, y_train_4, y_test_4 = model_selection.train_test_split(x4, y4, test_size = 0.2, random_state = 610)"
   ]
  },
  {
   "cell_type": "code",
   "execution_count": 68,
   "metadata": {},
   "outputs": [],
   "source": [
    "estimator = linear_model.LogisticRegression()"
   ]
  },
  {
   "cell_type": "code",
   "execution_count": 69,
   "metadata": {},
   "outputs": [
    {
     "name": "stderr",
     "output_type": "stream",
     "text": [
      "/Users/hoangtuanminhnguyen/opt/anaconda3/lib/python3.7/site-packages/sklearn/linear_model/logistic.py:432: FutureWarning: Default solver will be changed to 'lbfgs' in 0.22. Specify a solver to silence this warning.\n",
      "  FutureWarning)\n"
     ]
    },
    {
     "data": {
      "text/plain": [
       "LogisticRegression(C=1.0, class_weight=None, dual=False, fit_intercept=True,\n",
       "                   intercept_scaling=1, l1_ratio=None, max_iter=100,\n",
       "                   multi_class='warn', n_jobs=None, penalty='l2',\n",
       "                   random_state=None, solver='warn', tol=0.0001, verbose=0,\n",
       "                   warm_start=False)"
      ]
     },
     "execution_count": 69,
     "metadata": {},
     "output_type": "execute_result"
    }
   ],
   "source": [
    "estimator.fit(x_train_4, y_train_4)"
   ]
  },
  {
   "cell_type": "code",
   "execution_count": 70,
   "metadata": {},
   "outputs": [
    {
     "name": "stdout",
     "output_type": "stream",
     "text": [
      "confusion matrix: [[ 5173 16782]\n",
      " [ 4918 33195]]\n",
      "accuracy: 0.638742758207365\n",
      "precision: 0.6642055345458912\n",
      "recall: 0.8709626636580694\n"
     ]
    }
   ],
   "source": [
    "y_pred_4 = estimator.predict(x_test_4)\n",
    "print('confusion matrix:', metrics.confusion_matrix(y_test_4, y_pred_4))\n",
    "print('accuracy:', metrics.accuracy_score(y_test_4, y_pred_4))\n",
    "print('precision:', metrics.precision_score(y_test_4, y_pred_4))\n",
    "print('recall:', metrics.recall_score(y_test_4, y_pred_4))"
   ]
  },
  {
   "cell_type": "code",
   "execution_count": 71,
   "metadata": {},
   "outputs": [
    {
     "data": {
      "text/html": [
       "<div>\n",
       "<style scoped>\n",
       "    .dataframe tbody tr th:only-of-type {\n",
       "        vertical-align: middle;\n",
       "    }\n",
       "\n",
       "    .dataframe tbody tr th {\n",
       "        vertical-align: top;\n",
       "    }\n",
       "\n",
       "    .dataframe thead th {\n",
       "        text-align: right;\n",
       "    }\n",
       "</style>\n",
       "<table border=\"1\" class=\"dataframe\">\n",
       "  <thead>\n",
       "    <tr style=\"text-align: right;\">\n",
       "      <th></th>\n",
       "      <th>weekend</th>\n",
       "      <th>peak</th>\n",
       "      <th>dateDifference</th>\n",
       "      <th>Day</th>\n",
       "      <th>cabinClass_C</th>\n",
       "      <th>cabinClass_F</th>\n",
       "      <th>cabinClass_Y</th>\n",
       "      <th>airline_CA</th>\n",
       "      <th>airline_CZ</th>\n",
       "      <th>airline_FM</th>\n",
       "      <th>...</th>\n",
       "      <th>hour_16</th>\n",
       "      <th>hour_17</th>\n",
       "      <th>hour_18</th>\n",
       "      <th>hour_19</th>\n",
       "      <th>hour_20</th>\n",
       "      <th>hour_21</th>\n",
       "      <th>hour_6</th>\n",
       "      <th>hour_7</th>\n",
       "      <th>hour_8</th>\n",
       "      <th>hour_9</th>\n",
       "    </tr>\n",
       "  </thead>\n",
       "  <tbody>\n",
       "    <tr>\n",
       "      <td>89857</td>\n",
       "      <td>0</td>\n",
       "      <td>0</td>\n",
       "      <td>3</td>\n",
       "      <td>4</td>\n",
       "      <td>0</td>\n",
       "      <td>1</td>\n",
       "      <td>0</td>\n",
       "      <td>1</td>\n",
       "      <td>0</td>\n",
       "      <td>0</td>\n",
       "      <td>...</td>\n",
       "      <td>0</td>\n",
       "      <td>0</td>\n",
       "      <td>1</td>\n",
       "      <td>0</td>\n",
       "      <td>0</td>\n",
       "      <td>0</td>\n",
       "      <td>0</td>\n",
       "      <td>0</td>\n",
       "      <td>0</td>\n",
       "      <td>0</td>\n",
       "    </tr>\n",
       "    <tr>\n",
       "      <td>259380</td>\n",
       "      <td>0</td>\n",
       "      <td>0</td>\n",
       "      <td>5</td>\n",
       "      <td>2</td>\n",
       "      <td>0</td>\n",
       "      <td>0</td>\n",
       "      <td>1</td>\n",
       "      <td>0</td>\n",
       "      <td>0</td>\n",
       "      <td>0</td>\n",
       "      <td>...</td>\n",
       "      <td>0</td>\n",
       "      <td>0</td>\n",
       "      <td>0</td>\n",
       "      <td>1</td>\n",
       "      <td>0</td>\n",
       "      <td>0</td>\n",
       "      <td>0</td>\n",
       "      <td>0</td>\n",
       "      <td>0</td>\n",
       "      <td>0</td>\n",
       "    </tr>\n",
       "    <tr>\n",
       "      <td>150644</td>\n",
       "      <td>0</td>\n",
       "      <td>1</td>\n",
       "      <td>2</td>\n",
       "      <td>2</td>\n",
       "      <td>0</td>\n",
       "      <td>0</td>\n",
       "      <td>1</td>\n",
       "      <td>1</td>\n",
       "      <td>0</td>\n",
       "      <td>0</td>\n",
       "      <td>...</td>\n",
       "      <td>0</td>\n",
       "      <td>0</td>\n",
       "      <td>0</td>\n",
       "      <td>0</td>\n",
       "      <td>0</td>\n",
       "      <td>0</td>\n",
       "      <td>0</td>\n",
       "      <td>0</td>\n",
       "      <td>0</td>\n",
       "      <td>0</td>\n",
       "    </tr>\n",
       "    <tr>\n",
       "      <td>37597</td>\n",
       "      <td>0</td>\n",
       "      <td>1</td>\n",
       "      <td>3</td>\n",
       "      <td>1</td>\n",
       "      <td>1</td>\n",
       "      <td>0</td>\n",
       "      <td>0</td>\n",
       "      <td>0</td>\n",
       "      <td>0</td>\n",
       "      <td>0</td>\n",
       "      <td>...</td>\n",
       "      <td>0</td>\n",
       "      <td>0</td>\n",
       "      <td>0</td>\n",
       "      <td>0</td>\n",
       "      <td>0</td>\n",
       "      <td>0</td>\n",
       "      <td>0</td>\n",
       "      <td>0</td>\n",
       "      <td>0</td>\n",
       "      <td>0</td>\n",
       "    </tr>\n",
       "    <tr>\n",
       "      <td>72306</td>\n",
       "      <td>0</td>\n",
       "      <td>1</td>\n",
       "      <td>7</td>\n",
       "      <td>1</td>\n",
       "      <td>1</td>\n",
       "      <td>0</td>\n",
       "      <td>0</td>\n",
       "      <td>0</td>\n",
       "      <td>0</td>\n",
       "      <td>0</td>\n",
       "      <td>...</td>\n",
       "      <td>0</td>\n",
       "      <td>0</td>\n",
       "      <td>0</td>\n",
       "      <td>0</td>\n",
       "      <td>0</td>\n",
       "      <td>0</td>\n",
       "      <td>0</td>\n",
       "      <td>0</td>\n",
       "      <td>0</td>\n",
       "      <td>0</td>\n",
       "    </tr>\n",
       "    <tr>\n",
       "      <td>...</td>\n",
       "      <td>...</td>\n",
       "      <td>...</td>\n",
       "      <td>...</td>\n",
       "      <td>...</td>\n",
       "      <td>...</td>\n",
       "      <td>...</td>\n",
       "      <td>...</td>\n",
       "      <td>...</td>\n",
       "      <td>...</td>\n",
       "      <td>...</td>\n",
       "      <td>...</td>\n",
       "      <td>...</td>\n",
       "      <td>...</td>\n",
       "      <td>...</td>\n",
       "      <td>...</td>\n",
       "      <td>...</td>\n",
       "      <td>...</td>\n",
       "      <td>...</td>\n",
       "      <td>...</td>\n",
       "      <td>...</td>\n",
       "      <td>...</td>\n",
       "    </tr>\n",
       "    <tr>\n",
       "      <td>253865</td>\n",
       "      <td>1</td>\n",
       "      <td>1</td>\n",
       "      <td>5</td>\n",
       "      <td>5</td>\n",
       "      <td>0</td>\n",
       "      <td>0</td>\n",
       "      <td>1</td>\n",
       "      <td>0</td>\n",
       "      <td>0</td>\n",
       "      <td>0</td>\n",
       "      <td>...</td>\n",
       "      <td>0</td>\n",
       "      <td>0</td>\n",
       "      <td>0</td>\n",
       "      <td>0</td>\n",
       "      <td>0</td>\n",
       "      <td>0</td>\n",
       "      <td>0</td>\n",
       "      <td>0</td>\n",
       "      <td>0</td>\n",
       "      <td>0</td>\n",
       "    </tr>\n",
       "    <tr>\n",
       "      <td>200995</td>\n",
       "      <td>1</td>\n",
       "      <td>1</td>\n",
       "      <td>3</td>\n",
       "      <td>5</td>\n",
       "      <td>0</td>\n",
       "      <td>0</td>\n",
       "      <td>1</td>\n",
       "      <td>0</td>\n",
       "      <td>0</td>\n",
       "      <td>0</td>\n",
       "      <td>...</td>\n",
       "      <td>0</td>\n",
       "      <td>0</td>\n",
       "      <td>0</td>\n",
       "      <td>0</td>\n",
       "      <td>0</td>\n",
       "      <td>0</td>\n",
       "      <td>0</td>\n",
       "      <td>0</td>\n",
       "      <td>0</td>\n",
       "      <td>0</td>\n",
       "    </tr>\n",
       "    <tr>\n",
       "      <td>293210</td>\n",
       "      <td>0</td>\n",
       "      <td>1</td>\n",
       "      <td>7</td>\n",
       "      <td>0</td>\n",
       "      <td>0</td>\n",
       "      <td>0</td>\n",
       "      <td>1</td>\n",
       "      <td>0</td>\n",
       "      <td>0</td>\n",
       "      <td>0</td>\n",
       "      <td>...</td>\n",
       "      <td>0</td>\n",
       "      <td>0</td>\n",
       "      <td>0</td>\n",
       "      <td>0</td>\n",
       "      <td>0</td>\n",
       "      <td>0</td>\n",
       "      <td>0</td>\n",
       "      <td>0</td>\n",
       "      <td>0</td>\n",
       "      <td>0</td>\n",
       "    </tr>\n",
       "    <tr>\n",
       "      <td>244681</td>\n",
       "      <td>0</td>\n",
       "      <td>0</td>\n",
       "      <td>5</td>\n",
       "      <td>0</td>\n",
       "      <td>0</td>\n",
       "      <td>0</td>\n",
       "      <td>1</td>\n",
       "      <td>0</td>\n",
       "      <td>0</td>\n",
       "      <td>0</td>\n",
       "      <td>...</td>\n",
       "      <td>0</td>\n",
       "      <td>0</td>\n",
       "      <td>0</td>\n",
       "      <td>0</td>\n",
       "      <td>0</td>\n",
       "      <td>0</td>\n",
       "      <td>0</td>\n",
       "      <td>0</td>\n",
       "      <td>1</td>\n",
       "      <td>0</td>\n",
       "    </tr>\n",
       "    <tr>\n",
       "      <td>189711</td>\n",
       "      <td>0</td>\n",
       "      <td>1</td>\n",
       "      <td>3</td>\n",
       "      <td>0</td>\n",
       "      <td>0</td>\n",
       "      <td>0</td>\n",
       "      <td>1</td>\n",
       "      <td>0</td>\n",
       "      <td>0</td>\n",
       "      <td>0</td>\n",
       "      <td>...</td>\n",
       "      <td>0</td>\n",
       "      <td>0</td>\n",
       "      <td>0</td>\n",
       "      <td>0</td>\n",
       "      <td>0</td>\n",
       "      <td>0</td>\n",
       "      <td>0</td>\n",
       "      <td>0</td>\n",
       "      <td>0</td>\n",
       "      <td>0</td>\n",
       "    </tr>\n",
       "  </tbody>\n",
       "</table>\n",
       "<p>60068 rows × 38 columns</p>\n",
       "</div>"
      ],
      "text/plain": [
       "        weekend  peak  dateDifference  Day  cabinClass_C  cabinClass_F  \\\n",
       "89857         0     0               3    4             0             1   \n",
       "259380        0     0               5    2             0             0   \n",
       "150644        0     1               2    2             0             0   \n",
       "37597         0     1               3    1             1             0   \n",
       "72306         0     1               7    1             1             0   \n",
       "...         ...   ...             ...  ...           ...           ...   \n",
       "253865        1     1               5    5             0             0   \n",
       "200995        1     1               3    5             0             0   \n",
       "293210        0     1               7    0             0             0   \n",
       "244681        0     0               5    0             0             0   \n",
       "189711        0     1               3    0             0             0   \n",
       "\n",
       "        cabinClass_Y  airline_CA  airline_CZ  airline_FM  ...  hour_16  \\\n",
       "89857              0           1           0           0  ...        0   \n",
       "259380             1           0           0           0  ...        0   \n",
       "150644             1           1           0           0  ...        0   \n",
       "37597              0           0           0           0  ...        0   \n",
       "72306              0           0           0           0  ...        0   \n",
       "...              ...         ...         ...         ...  ...      ...   \n",
       "253865             1           0           0           0  ...        0   \n",
       "200995             1           0           0           0  ...        0   \n",
       "293210             1           0           0           0  ...        0   \n",
       "244681             1           0           0           0  ...        0   \n",
       "189711             1           0           0           0  ...        0   \n",
       "\n",
       "        hour_17  hour_18  hour_19  hour_20  hour_21  hour_6  hour_7  hour_8  \\\n",
       "89857         0        1        0        0        0       0       0       0   \n",
       "259380        0        0        1        0        0       0       0       0   \n",
       "150644        0        0        0        0        0       0       0       0   \n",
       "37597         0        0        0        0        0       0       0       0   \n",
       "72306         0        0        0        0        0       0       0       0   \n",
       "...         ...      ...      ...      ...      ...     ...     ...     ...   \n",
       "253865        0        0        0        0        0       0       0       0   \n",
       "200995        0        0        0        0        0       0       0       0   \n",
       "293210        0        0        0        0        0       0       0       0   \n",
       "244681        0        0        0        0        0       0       0       1   \n",
       "189711        0        0        0        0        0       0       0       0   \n",
       "\n",
       "        hour_9  \n",
       "89857        0  \n",
       "259380       0  \n",
       "150644       0  \n",
       "37597        0  \n",
       "72306        0  \n",
       "...        ...  \n",
       "253865       0  \n",
       "200995       0  \n",
       "293210       0  \n",
       "244681       0  \n",
       "189711       0  \n",
       "\n",
       "[60068 rows x 38 columns]"
      ]
     },
     "execution_count": 71,
     "metadata": {},
     "output_type": "execute_result"
    }
   ],
   "source": [
    "x_test_4"
   ]
  },
  {
   "cell_type": "code",
   "execution_count": 72,
   "metadata": {},
   "outputs": [
    {
     "data": {
      "text/plain": [
       "89857     1\n",
       "259380    1\n",
       "150644    0\n",
       "37597     1\n",
       "72306     0\n",
       "         ..\n",
       "253865    0\n",
       "200995    1\n",
       "293210    0\n",
       "244681    1\n",
       "189711    1\n",
       "Name: Discount, Length: 60068, dtype: int64"
      ]
     },
     "execution_count": 72,
     "metadata": {},
     "output_type": "execute_result"
    }
   ],
   "source": [
    "y_test_4"
   ]
  },
  {
   "cell_type": "code",
   "execution_count": 76,
   "metadata": {},
   "outputs": [
    {
     "name": "stderr",
     "output_type": "stream",
     "text": [
      "/Users/hoangtuanminhnguyen/opt/anaconda3/lib/python3.7/site-packages/ipykernel_launcher.py:1: SettingWithCopyWarning: \n",
      "A value is trying to be set on a copy of a slice from a DataFrame.\n",
      "Try using .loc[row_indexer,col_indexer] = value instead\n",
      "\n",
      "See the caveats in the documentation: http://pandas.pydata.org/pandas-docs/stable/user_guide/indexing.html#returning-a-view-versus-a-copy\n",
      "  \"\"\"Entry point for launching an IPython kernel.\n"
     ]
    }
   ],
   "source": [
    "x_test_4['y_pred_binary'] = y_pred_4"
   ]
  },
  {
   "cell_type": "code",
   "execution_count": 77,
   "metadata": {},
   "outputs": [
    {
     "name": "stderr",
     "output_type": "stream",
     "text": [
      "/Users/hoangtuanminhnguyen/opt/anaconda3/lib/python3.7/site-packages/ipykernel_launcher.py:1: SettingWithCopyWarning: \n",
      "A value is trying to be set on a copy of a slice from a DataFrame.\n",
      "Try using .loc[row_indexer,col_indexer] = value instead\n",
      "\n",
      "See the caveats in the documentation: http://pandas.pydata.org/pandas-docs/stable/user_guide/indexing.html#returning-a-view-versus-a-copy\n",
      "  \"\"\"Entry point for launching an IPython kernel.\n"
     ]
    }
   ],
   "source": [
    "x_test_4['y_test_binary'] = y_test_4"
   ]
  },
  {
   "cell_type": "markdown",
   "metadata": {},
   "source": [
    "#### (8) Let us now create three classes for all records with rate < 1: class 1 for 0.75 < rate < 1, class 2 for 0.5 < rate ≤ 0.75 and class 3 for rate ≤ 0.5 Choose your own attributes to build an ovr multi-class logistic regression classifier for this purpose. Plot the 5 ROC curves in one plot, 3 for each class, 1 for micro-average and another for macro-average, and report the respective AUC under each of the ROC curves."
   ]
  },
  {
   "cell_type": "code",
   "execution_count": null,
   "metadata": {},
   "outputs": [],
   "source": []
  },
  {
   "cell_type": "code",
   "execution_count": 78,
   "metadata": {},
   "outputs": [],
   "source": [
    "df1 = df[df['rate'] <1]"
   ]
  },
  {
   "cell_type": "code",
   "execution_count": 79,
   "metadata": {},
   "outputs": [
    {
     "name": "stderr",
     "output_type": "stream",
     "text": [
      "/Users/hoangtuanminhnguyen/opt/anaconda3/lib/python3.7/site-packages/ipykernel_launcher.py:1: SettingWithCopyWarning: \n",
      "A value is trying to be set on a copy of a slice from a DataFrame.\n",
      "Try using .loc[row_indexer,col_indexer] = value instead\n",
      "\n",
      "See the caveats in the documentation: http://pandas.pydata.org/pandas-docs/stable/user_guide/indexing.html#returning-a-view-versus-a-copy\n",
      "  \"\"\"Entry point for launching an IPython kernel.\n"
     ]
    }
   ],
   "source": [
    "df1['rate class'] = df1['rate'].apply(lambda x: 1 if x>0.75 else (2 if x>0.5 else 3))"
   ]
  },
  {
   "cell_type": "code",
   "execution_count": 80,
   "metadata": {},
   "outputs": [
    {
     "data": {
      "text/html": [
       "<div>\n",
       "<style scoped>\n",
       "    .dataframe tbody tr th:only-of-type {\n",
       "        vertical-align: middle;\n",
       "    }\n",
       "\n",
       "    .dataframe tbody tr th {\n",
       "        vertical-align: top;\n",
       "    }\n",
       "\n",
       "    .dataframe thead th {\n",
       "        text-align: right;\n",
       "    }\n",
       "</style>\n",
       "<table border=\"1\" class=\"dataframe\">\n",
       "  <thead>\n",
       "    <tr style=\"text-align: right;\">\n",
       "      <th></th>\n",
       "      <th>price</th>\n",
       "      <th>rate</th>\n",
       "      <th>weekend</th>\n",
       "      <th>peak</th>\n",
       "      <th>dateDifference</th>\n",
       "      <th>Day</th>\n",
       "      <th>cabinClass_C</th>\n",
       "      <th>cabinClass_F</th>\n",
       "      <th>cabinClass_Y</th>\n",
       "      <th>airline_CA</th>\n",
       "      <th>...</th>\n",
       "      <th>hour_18</th>\n",
       "      <th>hour_19</th>\n",
       "      <th>hour_20</th>\n",
       "      <th>hour_21</th>\n",
       "      <th>hour_6</th>\n",
       "      <th>hour_7</th>\n",
       "      <th>hour_8</th>\n",
       "      <th>hour_9</th>\n",
       "      <th>Discount</th>\n",
       "      <th>rate class</th>\n",
       "    </tr>\n",
       "  </thead>\n",
       "  <tbody>\n",
       "    <tr>\n",
       "      <td>1</td>\n",
       "      <td>1640</td>\n",
       "      <td>0.31</td>\n",
       "      <td>0</td>\n",
       "      <td>0</td>\n",
       "      <td>1</td>\n",
       "      <td>4</td>\n",
       "      <td>1</td>\n",
       "      <td>0</td>\n",
       "      <td>0</td>\n",
       "      <td>0</td>\n",
       "      <td>...</td>\n",
       "      <td>0</td>\n",
       "      <td>0</td>\n",
       "      <td>0</td>\n",
       "      <td>0</td>\n",
       "      <td>0</td>\n",
       "      <td>1</td>\n",
       "      <td>0</td>\n",
       "      <td>0</td>\n",
       "      <td>1</td>\n",
       "      <td>3</td>\n",
       "    </tr>\n",
       "    <tr>\n",
       "      <td>3</td>\n",
       "      <td>1635</td>\n",
       "      <td>0.29</td>\n",
       "      <td>0</td>\n",
       "      <td>0</td>\n",
       "      <td>1</td>\n",
       "      <td>4</td>\n",
       "      <td>1</td>\n",
       "      <td>0</td>\n",
       "      <td>0</td>\n",
       "      <td>0</td>\n",
       "      <td>...</td>\n",
       "      <td>0</td>\n",
       "      <td>0</td>\n",
       "      <td>0</td>\n",
       "      <td>0</td>\n",
       "      <td>0</td>\n",
       "      <td>1</td>\n",
       "      <td>0</td>\n",
       "      <td>0</td>\n",
       "      <td>1</td>\n",
       "      <td>3</td>\n",
       "    </tr>\n",
       "    <tr>\n",
       "      <td>4</td>\n",
       "      <td>1640</td>\n",
       "      <td>0.29</td>\n",
       "      <td>0</td>\n",
       "      <td>0</td>\n",
       "      <td>1</td>\n",
       "      <td>4</td>\n",
       "      <td>1</td>\n",
       "      <td>0</td>\n",
       "      <td>0</td>\n",
       "      <td>0</td>\n",
       "      <td>...</td>\n",
       "      <td>0</td>\n",
       "      <td>0</td>\n",
       "      <td>0</td>\n",
       "      <td>0</td>\n",
       "      <td>0</td>\n",
       "      <td>1</td>\n",
       "      <td>0</td>\n",
       "      <td>0</td>\n",
       "      <td>1</td>\n",
       "      <td>3</td>\n",
       "    </tr>\n",
       "    <tr>\n",
       "      <td>6</td>\n",
       "      <td>1860</td>\n",
       "      <td>0.34</td>\n",
       "      <td>0</td>\n",
       "      <td>0</td>\n",
       "      <td>1</td>\n",
       "      <td>4</td>\n",
       "      <td>1</td>\n",
       "      <td>0</td>\n",
       "      <td>0</td>\n",
       "      <td>1</td>\n",
       "      <td>...</td>\n",
       "      <td>0</td>\n",
       "      <td>0</td>\n",
       "      <td>0</td>\n",
       "      <td>0</td>\n",
       "      <td>0</td>\n",
       "      <td>1</td>\n",
       "      <td>0</td>\n",
       "      <td>0</td>\n",
       "      <td>1</td>\n",
       "      <td>3</td>\n",
       "    </tr>\n",
       "    <tr>\n",
       "      <td>8</td>\n",
       "      <td>1800</td>\n",
       "      <td>0.34</td>\n",
       "      <td>0</td>\n",
       "      <td>0</td>\n",
       "      <td>1</td>\n",
       "      <td>4</td>\n",
       "      <td>1</td>\n",
       "      <td>0</td>\n",
       "      <td>0</td>\n",
       "      <td>0</td>\n",
       "      <td>...</td>\n",
       "      <td>0</td>\n",
       "      <td>0</td>\n",
       "      <td>0</td>\n",
       "      <td>0</td>\n",
       "      <td>0</td>\n",
       "      <td>0</td>\n",
       "      <td>1</td>\n",
       "      <td>0</td>\n",
       "      <td>1</td>\n",
       "      <td>3</td>\n",
       "    </tr>\n",
       "  </tbody>\n",
       "</table>\n",
       "<p>5 rows × 42 columns</p>\n",
       "</div>"
      ],
      "text/plain": [
       "   price  rate  weekend  peak  dateDifference  Day  cabinClass_C  \\\n",
       "1   1640  0.31        0     0               1    4             1   \n",
       "3   1635  0.29        0     0               1    4             1   \n",
       "4   1640  0.29        0     0               1    4             1   \n",
       "6   1860  0.34        0     0               1    4             1   \n",
       "8   1800  0.34        0     0               1    4             1   \n",
       "\n",
       "   cabinClass_F  cabinClass_Y  airline_CA  ...  hour_18  hour_19  hour_20  \\\n",
       "1             0             0           0  ...        0        0        0   \n",
       "3             0             0           0  ...        0        0        0   \n",
       "4             0             0           0  ...        0        0        0   \n",
       "6             0             0           1  ...        0        0        0   \n",
       "8             0             0           0  ...        0        0        0   \n",
       "\n",
       "   hour_21  hour_6  hour_7  hour_8  hour_9  Discount  rate class  \n",
       "1        0       0       1       0       0         1           3  \n",
       "3        0       0       1       0       0         1           3  \n",
       "4        0       0       1       0       0         1           3  \n",
       "6        0       0       1       0       0         1           3  \n",
       "8        0       0       0       1       0         1           3  \n",
       "\n",
       "[5 rows x 42 columns]"
      ]
     },
     "execution_count": 80,
     "metadata": {},
     "output_type": "execute_result"
    }
   ],
   "source": [
    "df1.head()"
   ]
  },
  {
   "cell_type": "code",
   "execution_count": 81,
   "metadata": {},
   "outputs": [
    {
     "data": {
      "text/plain": [
       "Index(['price', 'rate', 'weekend', 'peak', 'dateDifference', 'Day',\n",
       "       'cabinClass_C', 'cabinClass_F', 'cabinClass_Y', 'airline_CA',\n",
       "       'airline_CZ', 'airline_FM', 'airline_HO', 'airline_HU', 'airline_MF',\n",
       "       'airline_MU', 'Month_01', 'Month_02', 'Month_03', 'Month_04',\n",
       "       'Month_05', 'Month_06', 'Month_07', 'Month_08', 'hour_10', 'hour_11',\n",
       "       'hour_12', 'hour_13', 'hour_14', 'hour_15', 'hour_16', 'hour_17',\n",
       "       'hour_18', 'hour_19', 'hour_20', 'hour_21', 'hour_6', 'hour_7',\n",
       "       'hour_8', 'hour_9', 'Discount', 'rate class'],\n",
       "      dtype='object')"
      ]
     },
     "execution_count": 81,
     "metadata": {},
     "output_type": "execute_result"
    }
   ],
   "source": [
    "df1.columns"
   ]
  },
  {
   "cell_type": "code",
   "execution_count": 82,
   "metadata": {},
   "outputs": [],
   "source": [
    "x5 = df1[['weekend', 'peak', 'dateDifference',\n",
    "       'cabinClass_C', 'cabinClass_F', 'cabinClass_Y', 'airline_CA',\n",
    "       'airline_CZ', 'airline_FM', 'airline_HO', 'airline_HU', 'airline_MF',\n",
    "       'airline_MU']]\n",
    "y5 = df1['rate class']"
   ]
  },
  {
   "cell_type": "code",
   "execution_count": 83,
   "metadata": {},
   "outputs": [],
   "source": [
    "x5_train, x5_test, y5_train, y5_test = model_selection.train_test_split(x5,y5, test_size = 0.2, random_state=100)"
   ]
  },
  {
   "cell_type": "code",
   "execution_count": 84,
   "metadata": {},
   "outputs": [
    {
     "name": "stdout",
     "output_type": "stream",
     "text": [
      "\n",
      "The evaluation report of OVR is:\n",
      "Confusion Matrix:\n",
      "[[9781  979 1840]\n",
      " [4236 3648 3824]\n",
      " [3945 1555 8298]]\n",
      "Accuracy: 0.5701726762189682\n",
      "\n",
      "The classification report of OVR:\n",
      "               precision    recall  f1-score   support\n",
      "\n",
      "           1       0.54      0.78      0.64     12600\n",
      "           2       0.59      0.31      0.41     11708\n",
      "           3       0.59      0.60      0.60     13798\n",
      "\n",
      "    accuracy                           0.57     38106\n",
      "   macro avg       0.58      0.56      0.55     38106\n",
      "weighted avg       0.58      0.57      0.55     38106\n",
      "\n"
     ]
    }
   ],
   "source": [
    "# One vs all\n",
    "ovr_estimator = linear_model.LogisticRegression(solver = 'lbfgs',\n",
    "    multi_class = 'ovr')\n",
    "ovr_estimator.fit(x5_train,y5_train)\n",
    "ovr_predict = ovr_estimator.predict(x5_test)\n",
    "\n",
    "ovr_report = \"\"\"\n",
    "The evaluation report of OVR is:\n",
    "Confusion Matrix:\n",
    "{}\n",
    "Accuracy: {}\n",
    "\"\"\".format(metrics.confusion_matrix(y5_test, ovr_predict),\n",
    "           metrics.accuracy_score(y5_test, ovr_predict))\n",
    "print(ovr_report)\n",
    "print('The classification report of OVR:\\n {}'\n",
    "      .format(metrics.classification_report(y5_test, ovr_predict)))\n"
   ]
  },
  {
   "cell_type": "code",
   "execution_count": 85,
   "metadata": {},
   "outputs": [
    {
     "name": "stdout",
     "output_type": "stream",
     "text": [
      "\n",
      "The evaluation report of Softmax is:\n",
      "Confusion Matrix:\n",
      "[[9576 1187 1837]\n",
      " [4106 3793 3809]\n",
      " [3882 1634 8282]]\n",
      "Accuracy: 0.5681782396472996\n",
      "\n",
      "The classification report of Softmax:\n",
      "               precision    recall  f1-score   support\n",
      "\n",
      "           1       0.55      0.76      0.63     12600\n",
      "           2       0.57      0.32      0.41     11708\n",
      "           3       0.59      0.60      0.60     13798\n",
      "\n",
      "    accuracy                           0.57     38106\n",
      "   macro avg       0.57      0.56      0.55     38106\n",
      "weighted avg       0.57      0.57      0.55     38106\n",
      "\n"
     ]
    }
   ],
   "source": [
    "#Softmax\n",
    "sm_estimator = linear_model.LogisticRegression(\n",
    "    solver = 'lbfgs',\n",
    "    multi_class = 'multinomial',\n",
    "    max_iter = 1000)\n",
    "sm_estimator.fit(x5_train, y5_train)\n",
    "\n",
    "sm_predict = sm_estimator.predict(x5_test)\n",
    "\n",
    "sm_report = \"\"\"\n",
    "The evaluation report of Softmax is:\n",
    "Confusion Matrix:\n",
    "{}\n",
    "Accuracy: {}\n",
    "\"\"\".format(metrics.confusion_matrix(y5_test, sm_predict),\n",
    "           metrics.accuracy_score(y5_test, sm_predict))\n",
    "print(sm_report)\n",
    "print('The classification report of Softmax:\\n {}'\n",
    "      .format(metrics.classification_report(y5_test, sm_predict)))"
   ]
  },
  {
   "cell_type": "markdown",
   "metadata": {},
   "source": [
    "Hence, we choose Logistic Regression to continue"
   ]
  },
  {
   "cell_type": "code",
   "execution_count": 138,
   "metadata": {},
   "outputs": [],
   "source": [
    "from sklearn.metrics import roc_curve, auc\n",
    "from scipy import interp\n",
    "from sklearn.metrics import roc_auc_score\n",
    "from itertools import cycle\n",
    "\n",
    "y_score = ovr_estimator.predict_proba(x5_test)\n",
    "y_test = pd.get_dummies(y5_test).values"
   ]
  },
  {
   "cell_type": "code",
   "execution_count": 139,
   "metadata": {},
   "outputs": [],
   "source": [
    "# Compute ROC curve and ROC area for each class\n",
    "n_classes=3\n",
    "fpr = dict()\n",
    "tpr = dict()\n",
    "roc_auc = dict()\n",
    "for i in range(n_classes):\n",
    "    fpr[i], tpr[i], _ = roc_curve(y_test[:, i], y_score[:, i])\n",
    "    roc_auc[i] = auc(fpr[i], tpr[i])\n",
    "\n",
    "# Compute micro-average ROC curve and ROC area\n",
    "fpr[\"micro\"], tpr[\"micro\"], _ = roc_curve(y_test.ravel(), y_score.ravel())\n",
    "roc_auc[\"micro\"] = auc(fpr[\"micro\"], tpr[\"micro\"])"
   ]
  },
  {
   "cell_type": "code",
   "execution_count": 143,
   "metadata": {},
   "outputs": [
    {
     "data": {
      "image/png": "[encoded data removed]",
      "text/plain": [
       "<Figure size 864x576 with 1 Axes>"
      ]
     },
     "metadata": {
      "needs_background": "light"
     },
     "output_type": "display_data"
    }
   ],
   "source": [
    "import numpy as np\n",
    "\n",
    "# First aggregate all false positive rates\n",
    "all_fpr = np.unique(np.concatenate([fpr[i] for i in range(n_classes)]))\n",
    "\n",
    "# Then interpolate all ROC curves at this points\n",
    "mean_tpr = np.zeros_like(all_fpr)\n",
    "for i in range(n_classes):\n",
    "    mean_tpr += interp(all_fpr, fpr[i], tpr[i])\n",
    "\n",
    "# Finally average it and compute AUC\n",
    "mean_tpr /= n_classes\n",
    "\n",
    "fpr[\"macro\"] = all_fpr\n",
    "tpr[\"macro\"] = mean_tpr\n",
    "roc_auc[\"macro\"] = auc(fpr[\"macro\"], tpr[\"macro\"])\n",
    "\n",
    "# Plot all ROC curves\n",
    "lw = 2\n",
    "plt.figure(figsize=(12, 8))\n",
    "plt.plot(fpr[\"micro\"], tpr[\"micro\"],\n",
    "         label='micro-average ROC curve (area = {0:0.2f})'\n",
    "               ''.format(roc_auc[\"micro\"]),\n",
    "         color='deeppink', linestyle=':', linewidth=4)\n",
    "\n",
    "plt.plot(fpr[\"macro\"], tpr[\"macro\"],\n",
    "         label='macro-average ROC curve (area = {0:0.2f})'\n",
    "               ''.format(roc_auc[\"macro\"]),\n",
    "         color='navy', linestyle=':', linewidth=4)\n",
    "\n",
    "colors = cycle(['aqua', 'darkorange', 'cornflowerblue'])\n",
    "for i, color in zip(range(n_classes), colors):\n",
    "    plt.plot(fpr[i], tpr[i], color=color, lw=lw,\n",
    "             label='ROC curve of class {0} (area = {1:0.2f})'\n",
    "             ''.format(i, roc_auc[i]))\n",
    "\n",
    "plt.plot([0, 1], [0, 1], 'k--', lw=lw)\n",
    "plt.xlim([0.0, 1.0])\n",
    "plt.ylim([0.0, 1.05])\n",
    "plt.xlabel('False Positive Rate')\n",
    "plt.ylabel('True Positive Rate')\n",
    "plt.title('Receiver operating characteristic to multi-class')\n",
    "plt.legend(loc=\"lower right\")\n",
    "plt.show()"
   ]
  },
  {
   "cell_type": "markdown",
   "metadata": {},
   "source": [
    "## (9)"
   ]
  },
  {
   "cell_type": "markdown",
   "metadata": {},
   "source": [
    "#### Retraining multi-class logistic regression"
   ]
  },
  {
   "cell_type": "markdown",
   "metadata": {},
   "source": [
    "When using model stacking, we need to make sure the multi-class model is not trained on data samples that later it is used to predict on. Because the train_test_split function in Q8 generates a different split compared to Q7, we can't use the model in Q8. Instead, we are going to re-train the multi-class model with training split consistent with Q7."
   ]
  },
  {
   "cell_type": "code",
   "execution_count": 87,
   "metadata": {},
   "outputs": [],
   "source": [
    "df['rate_class'] = df['rate'].apply(lambda x: 0 if x==1 else( 1 if (x>0.75) else (2 if x>0.5 else 3)))"
   ]
  },
  {
   "cell_type": "code",
   "execution_count": 88,
   "metadata": {},
   "outputs": [
    {
     "name": "stderr",
     "output_type": "stream",
     "text": [
      "/Users/hoangtuanminhnguyen/opt/anaconda3/lib/python3.7/site-packages/ipykernel_launcher.py:2: SettingWithCopyWarning: \n",
      "A value is trying to be set on a copy of a slice from a DataFrame.\n",
      "Try using .loc[row_indexer,col_indexer] = value instead\n",
      "\n",
      "See the caveats in the documentation: http://pandas.pydata.org/pandas-docs/stable/user_guide/indexing.html#returning-a-view-versus-a-copy\n",
      "  \n"
     ]
    }
   ],
   "source": [
    "ind = x_train_4.index\n",
    "x_train_4['rate_class'] = df['rate_class'].loc[ind]"
   ]
  },
  {
   "cell_type": "code",
   "execution_count": 89,
   "metadata": {},
   "outputs": [
    {
     "data": {
      "text/plain": [
       "0    87852\n",
       "3    54937\n",
       "1    50653\n",
       "2    46826\n",
       "Name: rate_class, dtype: int64"
      ]
     },
     "execution_count": 89,
     "metadata": {},
     "output_type": "execute_result"
    }
   ],
   "source": [
    "x_train_4.rate_class.value_counts()"
   ]
  },
  {
   "cell_type": "code",
   "execution_count": 90,
   "metadata": {},
   "outputs": [],
   "source": [
    "train = x_train_4[x_train_4.rate_class > 0]\n",
    "x_train_5 = train[['weekend', 'peak', 'dateDifference',\n",
    "    'cabinClass_C', 'cabinClass_F', 'cabinClass_Y', 'airline_CA',\n",
    "    'airline_CZ', 'airline_FM', 'airline_HO', 'airline_HU', 'airline_MF',\n",
    "    'airline_MU']]\n",
    "y_train_5 = train['rate_class']"
   ]
  },
  {
   "cell_type": "code",
   "execution_count": 91,
   "metadata": {},
   "outputs": [
    {
     "name": "stderr",
     "output_type": "stream",
     "text": [
      "/Users/hoangtuanminhnguyen/opt/anaconda3/lib/python3.7/site-packages/sklearn/linear_model/logistic.py:947: ConvergenceWarning: lbfgs failed to converge. Increase the number of iterations.\n",
      "  \"of iterations.\", ConvergenceWarning)\n"
     ]
    },
    {
     "data": {
      "text/plain": [
       "LogisticRegression(C=1.0, class_weight=None, dual=False, fit_intercept=True,\n",
       "                   intercept_scaling=1, l1_ratio=None, max_iter=100,\n",
       "                   multi_class='ovr', n_jobs=None, penalty='l2',\n",
       "                   random_state=None, solver='lbfgs', tol=0.0001, verbose=0,\n",
       "                   warm_start=False)"
      ]
     },
     "execution_count": 91,
     "metadata": {},
     "output_type": "execute_result"
    }
   ],
   "source": [
    "ovr_estimator = linear_model.LogisticRegression(solver = 'lbfgs',\n",
    "    multi_class = 'ovr')\n",
    "ovr_estimator.fit(x_train_5,y_train_5)"
   ]
  },
  {
   "cell_type": "markdown",
   "metadata": {},
   "source": [
    "#### Stack two models"
   ]
  },
  {
   "cell_type": "code",
   "execution_count": 92,
   "metadata": {},
   "outputs": [
    {
     "name": "stderr",
     "output_type": "stream",
     "text": [
      "/Users/hoangtuanminhnguyen/opt/anaconda3/lib/python3.7/site-packages/ipykernel_launcher.py:2: SettingWithCopyWarning: \n",
      "A value is trying to be set on a copy of a slice from a DataFrame.\n",
      "Try using .loc[row_indexer,col_indexer] = value instead\n",
      "\n",
      "See the caveats in the documentation: http://pandas.pydata.org/pandas-docs/stable/user_guide/indexing.html#returning-a-view-versus-a-copy\n",
      "  \n"
     ]
    }
   ],
   "source": [
    "ind = x_test_4.index\n",
    "x_test_4['rate_class'] = df['rate_class'].loc[ind]"
   ]
  },
  {
   "cell_type": "code",
   "execution_count": 93,
   "metadata": {},
   "outputs": [
    {
     "data": {
      "text/plain": [
       "0    21955\n",
       "3    13702\n",
       "1    12688\n",
       "2    11723\n",
       "Name: rate_class, dtype: int64"
      ]
     },
     "execution_count": 93,
     "metadata": {},
     "output_type": "execute_result"
    }
   ],
   "source": [
    "x_test_4['rate_class'].value_counts()"
   ]
  },
  {
   "cell_type": "code",
   "execution_count": 94,
   "metadata": {},
   "outputs": [],
   "source": [
    "x_test_5 = x_test_4[x_test_4.y_pred_binary == 1]\n",
    "x_test_5 = x_test_5[['weekend', 'peak', 'dateDifference',\n",
    "       'cabinClass_C', 'cabinClass_F', 'cabinClass_Y', 'airline_CA',\n",
    "       'airline_CZ', 'airline_FM', 'airline_HO', 'airline_HU', 'airline_MF',\n",
    "       'airline_MU']]"
   ]
  },
  {
   "cell_type": "code",
   "execution_count": 95,
   "metadata": {},
   "outputs": [],
   "source": [
    "y_pred_5 = ovr_estimator.predict(x_test_5)"
   ]
  },
  {
   "cell_type": "code",
   "execution_count": 103,
   "metadata": {},
   "outputs": [
    {
     "name": "stderr",
     "output_type": "stream",
     "text": [
      "/Users/hoangtuanminhnguyen/opt/anaconda3/lib/python3.7/site-packages/ipykernel_launcher.py:1: SettingWithCopyWarning: \n",
      "A value is trying to be set on a copy of a slice from a DataFrame.\n",
      "Try using .loc[row_indexer,col_indexer] = value instead\n",
      "\n",
      "See the caveats in the documentation: http://pandas.pydata.org/pandas-docs/stable/user_guide/indexing.html#returning-a-view-versus-a-copy\n",
      "  \"\"\"Entry point for launching an IPython kernel.\n",
      "/Users/hoangtuanminhnguyen/opt/anaconda3/lib/python3.7/site-packages/pandas/core/indexing.py:205: SettingWithCopyWarning: \n",
      "A value is trying to be set on a copy of a slice from a DataFrame\n",
      "\n",
      "See the caveats in the documentation: http://pandas.pydata.org/pandas-docs/stable/user_guide/indexing.html#returning-a-view-versus-a-copy\n",
      "  self._setitem_with_indexer(indexer, value)\n",
      "/Users/hoangtuanminhnguyen/opt/anaconda3/lib/python3.7/site-packages/ipykernel_launcher.py:2: SettingWithCopyWarning: \n",
      "A value is trying to be set on a copy of a slice from a DataFrame\n",
      "\n",
      "See the caveats in the documentation: http://pandas.pydata.org/pandas-docs/stable/user_guide/indexing.html#returning-a-view-versus-a-copy\n",
      "  \n"
     ]
    }
   ],
   "source": [
    "x_test_4['y_pred_class'] = 0\n",
    "x_test_4['y_pred_class'].loc[x_test_5.index] = y_pred_5"
   ]
  },
  {
   "cell_type": "code",
   "execution_count": 104,
   "metadata": {},
   "outputs": [
    {
     "data": {
      "text/plain": [
       "Index(['weekend', 'peak', 'dateDifference', 'Day', 'cabinClass_C',\n",
       "       'cabinClass_F', 'cabinClass_Y', 'airline_CA', 'airline_CZ',\n",
       "       'airline_FM', 'airline_HO', 'airline_HU', 'airline_MF', 'airline_MU',\n",
       "       'Month_01', 'Month_02', 'Month_03', 'Month_04', 'Month_05', 'Month_06',\n",
       "       'Month_07', 'Month_08', 'hour_10', 'hour_11', 'hour_12', 'hour_13',\n",
       "       'hour_14', 'hour_15', 'hour_16', 'hour_17', 'hour_18', 'hour_19',\n",
       "       'hour_20', 'hour_21', 'hour_6', 'hour_7', 'hour_8', 'hour_9',\n",
       "       'y_pred_binary', 'y_test_binary', 'rate_class', 'y_pred_class'],\n",
       "      dtype='object')"
      ]
     },
     "execution_count": 104,
     "metadata": {},
     "output_type": "execute_result"
    }
   ],
   "source": [
    "x_test_4.columns"
   ]
  },
  {
   "cell_type": "code",
   "execution_count": 105,
   "metadata": {},
   "outputs": [
    {
     "data": {
      "text/plain": [
       "1    25070\n",
       "3    19566\n",
       "0    10091\n",
       "2     5341\n",
       "Name: y_pred_class, dtype: int64"
      ]
     },
     "execution_count": 105,
     "metadata": {},
     "output_type": "execute_result"
    }
   ],
   "source": [
    "x_test_4.y_pred_class.value_counts()"
   ]
  },
  {
   "cell_type": "code",
   "execution_count": 107,
   "metadata": {},
   "outputs": [
    {
     "data": {
      "text/plain": [
       "0    21955\n",
       "3    13702\n",
       "1    12688\n",
       "2    11723\n",
       "Name: rate_class, dtype: int64"
      ]
     },
     "execution_count": 107,
     "metadata": {},
     "output_type": "execute_result"
    }
   ],
   "source": [
    "x_test_4.rate_class.value_counts()"
   ]
  },
  {
   "cell_type": "code",
   "execution_count": 108,
   "metadata": {},
   "outputs": [
    {
     "name": "stdout",
     "output_type": "stream",
     "text": [
      "\n",
      "    The evaluation report of OVR is:\n",
      "    Confusion Matrix:\n",
      "    [[5173 8182 1494 7106]\n",
      " [1475 8765  848 1600]\n",
      " [2140 4206 2003 3374]\n",
      " [1303 3917  996 7486]]\n",
      "    Accuracy: 0.3900079909435973\n",
      "    \n",
      "The classification report of OVR:\n",
      "               precision    recall  f1-score   support\n",
      "\n",
      "           0       0.51      0.24      0.32     21955\n",
      "           1       0.35      0.69      0.46     12688\n",
      "           2       0.38      0.17      0.23     11723\n",
      "           3       0.38      0.55      0.45     13702\n",
      "\n",
      "    accuracy                           0.39     60068\n",
      "   macro avg       0.40      0.41      0.37     60068\n",
      "weighted avg       0.42      0.39      0.36     60068\n",
      "\n"
     ]
    }
   ],
   "source": [
    "stack_report = \"\"\"\n",
    "    The evaluation report of OVR is:\n",
    "    Confusion Matrix:\n",
    "    {}\n",
    "    Accuracy: {}\n",
    "    \"\"\".format(metrics.confusion_matrix(x_test_4.rate_class, x_test_4.y_pred_class),\n",
    "               metrics.accuracy_score(x_test_4.rate_class, x_test_4.y_pred_class))\n",
    "print(stack_report)\n",
    "print('The classification report of OVR:\\n {}'\n",
    "      .format(metrics.classification_report(x_test_4.rate_class, x_test_4.y_pred_class)))"
   ]
  },
  {
   "cell_type": "markdown",
   "metadata": {},
   "source": [
    "Seems like the stacking model does not perform well because the error of the binary model is further propagated into the multi-class model."
   ]
  },
  {
   "cell_type": "code",
   "execution_count": null,
   "metadata": {},
   "outputs": [],
   "source": []
  }
 ],
 "metadata": {
  "kernelspec": {
   "display_name": "Python 3",
   "language": "python",
   "name": "python3"
  },
  "language_info": {
   "codemirror_mode": {
    "name": "ipython",
    "version": 3
   },
   "file_extension": ".py",
   "mimetype": "text/x-python",
   "name": "python",
   "nbconvert_exporter": "python",
   "pygments_lexer": "ipython3",
   "version": "3.7.4"
  }
 },
 "nbformat": 4,
 "nbformat_minor": 4
}
